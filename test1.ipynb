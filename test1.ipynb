{
 "cells": [
  {
   "cell_type": "markdown",
   "metadata": {
    "hide_input": true,
    "inputHidden": true,
    "papermill": {
     "duration": 0.05259,
     "end_time": "2020-01-31T11:27:42.805052",
     "exception": false,
     "start_time": "2020-01-31T11:27:42.752462",
     "status": "completed"
    },
    "tags": [],
    "pycharm": {
     "name": "#%% md\n"
    }
   },
   "source": [
    "# Clustering networks"
   ]
  },
  {
   "cell_type": "code",
   "metadata": {
    "collapsed": false,
    "papermill": {
     "duration": 0.013285,
     "end_time": "2020-01-31T11:27:42.834102",
     "exception": false,
     "start_time": "2020-01-31T11:27:42.820817",
     "status": "completed"
    },
    "pycharm": {
     "name": "#%%\n"
    },
    "tags": []
   },
   "source": [
    "import pickle\n",
    "import warnings\n",
    "warnings.filterwarnings('ignore')\n",
    "from matplotlib.axes._axes import _log\n",
    "_log.setLevel('ERROR')\n",
    "\n",
    "import matplotlib.pyplot as plt\n",
    "import networkx as nx\n",
    "import numpy as np\n",
    "from collections import Counter\n",
    "from hdbscan import HDBSCAN\n",
    "from matplotlib.cm import get_cmap\n",
    "from sklearn.manifold import spectral_embedding\n",
    "from umap import UMAP\n",
    "\n",
    "%matplotlib inline\n",
    "\n",
    "seed = 42\n",
    "random_state = np.random.RandomState(seed)"
   ],
   "execution_count": null,
   "outputs": []
  },
  {
   "cell_type": "markdown",
   "metadata": {
    "collapsed": false,
    "papermill": {
     "duration": 6.749068,
     "end_time": "2020-01-31T11:27:49.596075",
     "exception": false,
     "start_time": "2020-01-31T11:27:42.847007",
     "status": "completed"
    },
    "pycharm": {
     "is_executing": false,
     "name": "#%% md\n"
    },
    "tags": []
   },
   "source": [
    "Defining the network:"
   ]
  },
  {
   "cell_type": "code",
   "metadata": {
    "collapsed": false,
    "papermill": {
     "duration": 0.015036,
     "end_time": "2020-01-31T11:27:49.628662",
     "exception": false,
     "start_time": "2020-01-31T11:27:49.613626",
     "status": "completed"
    },
    "pycharm": {
     "name": "#%%\n"
    },
    "tags": []
   },
   "source": [
    "# G = nx.read_edgelist(\"air_traffic.edgelist\")\n",
    "# G = nx.read_edgelist(\"academic_collaboration.edgelist\")\n",
    "# G = nx.dorogovtsev_goltsev_mendes_graph(7)\n",
    "with open(\"imdb.p\", \"rb\") as f:\n",
    "    G = nx.Graph()\n",
    "    G.add_edges_from(pickle.load(f))\n",
    "    G = G.subgraph(max(nx.connected_components(G), key=len)).copy()"
   ],
   "execution_count": null,
   "outputs": []
  },
  {
   "cell_type": "markdown",
   "metadata": {
    "collapsed": false,
    "papermill": {
     "duration": 4.270944,
     "end_time": "2020-01-31T11:27:53.914370",
     "exception": false,
     "start_time": "2020-01-31T11:27:49.643426",
     "status": "completed"
    },
    "pycharm": {
     "is_executing": false,
     "name": "#%% md\n"
    },
    "tags": []
   },
   "source": [
    "Reducing dimensions with Spectral Embedding and UMAP and clustering with HDBSCAN:"
   ]
  },
  {
   "cell_type": "code",
   "metadata": {
    "collapsed": false,
    "papermill": {
     "duration": 0.014817,
     "end_time": "2020-01-31T11:27:53.947350",
     "exception": false,
     "start_time": "2020-01-31T11:27:53.932533",
     "status": "completed"
    },
    "pycharm": {
     "name": "#%%\n"
    },
    "tags": []
   },
   "source": [
    "adj_matrix = nx.to_numpy_array(G)\n",
    "node_list = list(G.nodes()) \n",
    "\n",
    "embedding = spectral_embedding(adj_matrix, n_components=50, drop_first=False, random_state=random_state)\n",
    "clusters = HDBSCAN(min_samples=400, min_cluster_size=400, core_dist_n_jobs=-1).fit_predict(embedding)\n",
    "embedding = UMAP(n_components=2, n_neighbors=30, min_dist=0.0, random_state=random_state).fit_transform(embedding)\n",
    "\n",
    "print(f\"nodes: {len(node_list)}\")\n",
    "print(f\"clusters: {np.amax(clusters) + 1}\")\n",
    "print(f\"noise level: {np.round(Counter(clusters)[-1] / len(clusters), 3)}\")\n",
    "\n",
    "cmap = get_cmap('jet')(np.linspace(0, 1.0, np.amax(clusters) + 2))\n",
    "pos_fr = nx.fruchterman_reingold_layout(G, seed=seed)\n",
    "pos_spectral_umap = {node_list[i]: embedding[i] for i in range(len(node_list))}\n",
    "\n",
    "def draw_network(G, pos, node_color, edge_width, font_size, pdf_name):\n",
    "    degrees = [x[1] for x in nx.degree(G)]\n",
    "    node_sizes = [50 * x / max(degrees) + 1 for x in degrees]\n",
    "    nx.draw_networkx_nodes(G, pos=pos, node_size=node_sizes, node_color=node_color)\n",
    "    nx.draw_networkx_edges(G, pos=pos, width=edge_width)\n",
    "    nx.draw_networkx_labels(G, pos=pos, font_size=font_size)\n",
    "    plt.savefig(f\"{pdf_name}.pdf\")\n",
    "    plt.show()\n",
    "\n",
    "node_colors = [cmap[clusters[i]] for i in range(len(clusters))]\n",
    "draw_network(G, pos=pos_spectral_umap, node_color=node_colors, edge_width=.005, font_size=1,\n",
    "             pdf_name=\"graph_spectral_umap_1\")\n",
    "draw_network(G, pos=pos_fr, node_color=node_colors, edge_width=.005, font_size=1, pdf_name=\"graph_fr_1\")"
   ],
   "execution_count": null,
   "outputs": []
  },
  {
   "cell_type": "markdown",
   "metadata": {
    "collapsed": false,
    "papermill": {
     "duration": 2606.024029,
     "end_time": "2020-01-31T12:11:19.985550",
     "exception": false,
     "start_time": "2020-01-31T11:27:53.961521",
     "status": "completed"
    },
    "pycharm": {
     "is_executing": false,
     "name": "#%% md\n"
    },
    "tags": []
   },
   "source": [
    "Removing nodes labeled as noise by HDBSCAN:"
   ]
  },
  {
   "cell_type": "code",
   "metadata": {
    "collapsed": false,
    "papermill": {
     "duration": 0.023277,
     "end_time": "2020-01-31T12:11:20.038491",
     "exception": false,
     "start_time": "2020-01-31T12:11:20.015214",
     "status": "completed"
    },
    "pycharm": {
     "name": "#%%\n"
    },
    "tags": []
   },
   "source": [
    "G.remove_nodes_from([node_list[i] for i in range(len(node_list)) if clusters[i] == -1])\n",
    "node_list = list(G.nodes())\n",
    "clusters = [clusters[i] for i in range(len(clusters)) if clusters[i] != -1]\n",
    "\n",
    "node_colors = [cmap[clusters[i]] for i in range(len(clusters))]\n",
    "draw_network(G, pos=pos_spectral_umap, node_color=node_colors, edge_width=.005, font_size=1,\n",
    "             pdf_name=\"graph_without_noise_spectral_umap_1\")\n",
    "draw_network(G, pos=pos_fr, node_color=node_colors, edge_width=.005, font_size=1, pdf_name=\"graph_without_noise_fr_1\")"
   ],
   "execution_count": null,
   "outputs": []
  }
 ],
 "metadata": {
  "kernelspec": {
   "display_name": "Python 3",
   "language": "python",
   "name": "python3"
  },
  "language_info": {
   "codemirror_mode": {
    "name": "ipython",
    "version": 3
   },
   "file_extension": ".py",
   "mimetype": "text/x-python",
   "name": "python",
   "nbconvert_exporter": "python",
   "pygments_lexer": "ipython3",
   "version": "3.7.0"
  },
  "papermill": {
   "duration": 2621.270117,
   "end_time": "2020-01-31T12:11:21.221925",
   "environment_variables": {},
   "exception": null,
   "input_path": "test1.ipynb",
   "output_path": "test1.ipynb",
   "parameters": {},
   "start_time": "2020-01-31T11:27:39.951808",
   "version": "1.2.1"
  },
  "pycharm": {
   "stem_cell": {
    "cell_type": "raw",
    "source": [],
    "metadata": {
     "collapsed": false
    }
   }
  }
 },
 "nbformat": 4,
 "nbformat_minor": 0
}