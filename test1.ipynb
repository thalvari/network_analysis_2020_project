{
 "cells": [
  {
   "cell_type": "markdown",
   "metadata": {
    "hide_input": true,
    "inputHidden": true,
    "papermill": {
     "duration": 0.01728,
     "end_time": "2020-02-07T09:20:26.862498",
     "exception": false,
     "start_time": "2020-02-07T09:20:26.845218",
     "status": "completed"
    },
    "pycharm": {
     "name": "#%% md\n"
    },
    "tags": []
   },
   "source": [
    "# Clustering networks"
   ]
  },
  {
   "cell_type": "code",
   "execution_count": 1,
   "metadata": {
    "papermill": {
     "duration": 18.486565,
     "end_time": "2020-02-07T09:20:45.359762",
     "exception": false,
     "start_time": "2020-02-07T09:20:26.873197",
     "status": "completed"
    },
    "pycharm": {
     "name": "#%%\n"
    },
    "tags": []
   },
   "outputs": [],
   "source": [
    "import pickle\n",
    "import warnings\n",
    "warnings.filterwarnings('ignore')\n",
    "from matplotlib.axes._axes import _log\n",
    "_log.setLevel('ERROR')\n",
    "\n",
    "import matplotlib.pyplot as plt\n",
    "import networkx as nx\n",
    "import numpy as np\n",
    "from collections import Counter\n",
    "from hdbscan import HDBSCAN\n",
    "from matplotlib.cm import get_cmap\n",
    "from sklearn.manifold import spectral_embedding\n",
    "from umap import UMAP\n",
    "\n",
    "%matplotlib inline"
   ]
  },
  {
   "cell_type": "markdown",
   "metadata": {
    "papermill": {
     "duration": 0.010307,
     "end_time": "2020-02-07T09:20:45.387624",
     "exception": false,
     "start_time": "2020-02-07T09:20:45.377317",
     "status": "completed"
    },
    "pycharm": {
     "is_executing": false,
     "name": "#%% md\n"
    },
    "tags": []
   },
   "source": [
    "Notebook params:"
   ]
  },
  {
   "cell_type": "code",
   "execution_count": 2,
   "metadata": {
    "papermill": {
     "duration": 8.546915,
     "end_time": "2020-02-07T09:20:53.942956",
     "exception": false,
     "start_time": "2020-02-07T09:20:45.396041",
     "status": "completed"
    },
    "pycharm": {
     "name": "#%%\n"
    },
    "tags": []
   },
   "outputs": [
    {
     "name": "stdout",
     "output_type": "stream",
     "text": [
      "largest connected components: [77744, 121, 100, 76, 51]\n"
     ]
    }
   ],
   "source": [
    "seed = 42\n",
    "n_spectral_components = 50\n",
    "min_cluster_size = 800\n",
    "min_samples = 1600\n",
    "postfix = \"_1\""
   ]
  },
  {
   "cell_type": "markdown",
   "metadata": {
    "papermill": {
     "duration": 0.010653,
     "end_time": "2020-02-07T09:20:53.970664",
     "exception": false,
     "start_time": "2020-02-07T09:20:53.960011",
     "status": "completed"
    },
    "pycharm": {
     "is_executing": false,
     "name": "#%% md\n"
    },
    "tags": []
   },
   "source": [
    "Defining the network:"
   ]
  },
  {
   "cell_type": "code",
   "execution_count": 3,
   "metadata": {
    "papermill": {
     "duration": 7343.03288,
     "end_time": "2020-02-07T11:23:17.011739",
     "exception": false,
     "start_time": "2020-02-07T09:20:53.978859",
     "status": "completed"
    },
    "pycharm": {
     "name": "#%%\n"
    },
    "tags": []
   },
   "outputs": [
    {
     "name": "stdout",
     "output_type": "stream",
     "text": [
      "nodes: 77744\n",
      "clusters: 11\n",
      "cluster sizes: [(-1, 35397), (9, 14298), (10, 7364), (0, 3413), (2, 2797), (6, 2568), (5, 2537), (4, 2380), (8, 2196), (3, 2069), (1, 1918), (7, 807)]\n",
      "noise level: 0.455\n"
     ]
    }
   ],
   "source": [
    "np.random.seed(seed)\n",
    "\n",
    "with open(\"data/imdb.pkl\", \"rb\") as f:\n",
    "    G = nx.Graph()\n",
    "    G.add_edges_from(pickle.load(f))\n",
    "\n",
    "G.remove_nodes_from(set(nx.nodes(G)) - max(nx.connected_components(G), key=len))\n",
    "adj_matrix = nx.to_numpy_array(G)\n",
    "node_list = list(G.nodes())\n",
    "\n",
    "print(f\"nodes: {len(node_list)}\")\n",
    "print(f\"edges: {len(G.edges())}\")"
   ]
  },
  {
   "cell_type": "markdown",
   "metadata": {
    "pycharm": {
     "name": "#%% md\n"
    }
   },
   "source": [
    "Reducing dimensions with Spectral Embedding and UMAP and clustering with HDBSCAN:"
   ]
  },
  {
   "cell_type": "code",
   "metadata": {
    "papermill": {
     "duration": 9546.882942,
     "end_time": "2020-02-07T14:02:23.991487",
     "exception": false,
     "start_time": "2020-02-07T11:23:17.108545",
     "status": "completed"
    },
    "pycharm": {
     "is_executing": false,
     "name": "#%%\n"
    },
    "tags": []
   },
   "source": [
    "np.random.seed(seed)\n",
    "\n",
    "embedding = spectral_embedding(\n",
    "    adj_matrix, n_components=n_spectral_components, drop_first=False, random_state=np.random.RandomState(seed)\n",
    ")\n",
    "embedding = UMAP(\n",
    "    n_components=2, n_neighbors=30, min_dist=0.0, random_state=np.random.RandomState(seed)\n",
    ").fit_transform(embedding)\n",
    "\n",
    "clusters = HDBSCAN(\n",
    "    min_samples=min_samples, min_cluster_size=min_cluster_size, core_dist_n_jobs=-1\n",
    ").fit_predict(embedding)\n",
    "\n",
    "counter = Counter(clusters)\n",
    "print(f\"clusters: {len(counter) - 1}\")\n",
    "print(f\"cluster sizes: {sorted(counter.items(), key=lambda x: x[1], reverse=True)}\")\n",
    "print(f\"noise level: {np.round(counter[-1] / len(clusters), 3)}\")"
   ],
   "execution_count": null,
   "outputs": []
  },
  {
   "cell_type": "code",
   "metadata": {
    "papermill": {
     "duration": 0.01351,
     "end_time": "2020-02-07T14:02:24.030816",
     "exception": false,
     "start_time": "2020-02-07T14:02:24.017306",
     "status": "completed"
    },
    "pycharm": {
     "name": "#%%\n"
    },
    "tags": []
   },
   "source": [
    "np.random.seed(seed)\n",
    "\n",
    "def draw_network(G, pos, node_colors, pdf_name, node_size=1, edge_width=.1, font_size=1):\n",
    "    # degrees = [x[1] for x in nx.degree(G)]\n",
    "    # node_sizes = [50 * x / max(degrees) + 1 for x in degrees]\n",
    "    nx.draw_networkx_nodes(G, pos=pos, node_size=node_size, node_color=node_colors)\n",
    "    nx.draw_networkx_edges(G, pos=pos, width=edge_width)\n",
    "    # nx.draw_networkx_labels(G, pos=pos, font_size=font_size)\n",
    "    plt.savefig(f\"results/{pdf_name}.pdf\")\n",
    "    plt.show()\n",
    "\n",
    "cmap = get_cmap(\"tab20\").colors\n",
    "cmap = [cmap[i] for i in range(len(cmap)) if i % 2 == 0] + [cmap[i] for i in range(len(cmap)) if i % 2 == 1]\n",
    "node_colors = [cmap[cluster] for cluster in clusters]\n",
    "pos_su = {node_list[i]: embedding[i] for i in range(len(node_list))}\n",
    "pos_fr = nx.fruchterman_reingold_layout(G, seed=seed)\n",
    "\n",
    "draw_network(G, pos=pos_su, node_colors=node_colors, pdf_name=\"graph_su\" + postfix)\n",
    "draw_network(G, pos=pos_fr, node_colors=node_colors, pdf_name=\"graph_fr\" + postfix)"
   ],
   "execution_count": null,
   "outputs": []
  },
  {
   "cell_type": "markdown",
   "metadata": {
    "papermill": {
     "duration": 0.422953,
     "end_time": "2020-02-07T14:02:24.465733",
     "exception": false,
     "start_time": "2020-02-07T14:02:24.042780",
     "status": "completed"
    },
    "pycharm": {
     "name": "#%% md\n"
    },
    "tags": []
   },
   "source": [
    "Removing nodes labeled as noise by HDBSCAN:"
   ]
  },
  {
   "cell_type": "code",
   "execution_count": null,
   "outputs": [],
   "source": [
    "G.remove_nodes_from([node_list[i] for i in range(len(node_list)) if clusters[i] == -1])\n",
    "node_colors = [cmap[cluster] for cluster in clusters if cluster != -1]\n",
    "\n",
    "draw_network(G, pos=pos_su, node_colors=node_colors, pdf_name=\"graph_su_clean\" + postfix)\n",
    "draw_network(G, pos=pos_fr, node_colors=node_colors, pdf_name=\"graph_fr_clean\" + postfix)"
   ],
   "metadata": {
    "collapsed": false,
    "pycharm": {
     "name": "#%%\n"
    }
   }
  }
 ],
 "metadata": {
  "kernelspec": {
   "display_name": "Python 3",
   "language": "python",
   "name": "python3"
  },
  "language_info": {
   "codemirror_mode": {
    "name": "ipython",
    "version": 3
   },
   "file_extension": ".py",
   "mimetype": "text/x-python",
   "name": "python",
   "nbconvert_exporter": "python",
   "pygments_lexer": "ipython3",
   "version": "3.8.1"
  },
  "papermill": {
   "duration": 17008.918156,
   "end_time": "2020-02-07T14:03:52.825621",
   "environment_variables": {},
   "exception": null,
   "input_path": "test1.ipynb",
   "output_path": "test1.ipynb",
   "parameters": {},
   "start_time": "2020-02-07T09:20:23.907465",
   "version": "1.2.1"
  },
  "pycharm": {
   "stem_cell": {
    "cell_type": "raw",
    "source": [],
    "metadata": {
     "collapsed": false
    }
   }
  }
 },
 "nbformat": 4,
 "nbformat_minor": 1
}