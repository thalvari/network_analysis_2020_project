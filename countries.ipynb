{
 "cells": [
  {
   "cell_type": "code",
   "execution_count": 6,
   "metadata": {
    "collapsed": true,
    "pycharm": {
     "is_executing": false
    }
   },
   "outputs": [
    {
     "name": "stderr",
     "text": [
      "UsageError: Line magic function `%%timeit` not found.\n"
     ],
     "output_type": "stream"
    }
   ],
   "source": [
    "import pickle\n",
    "from multiprocessing.pool import Pool\n",
    "\n",
    "import imdb\n",
    "import numpy as np\n",
    "import pandas as pd\n",
    "\n",
    "with open(\"data/actors.pkl\", \"rb\") as f:\n",
    "    df = pd.DataFrame(sorted(pickle.load(f)), columns=[\"nconst\"])\n",
    "\n",
    "def get_country(nconst):\n",
    "    ia = imdb.IMDb()\n",
    "    person = ia.get_person(nconst[2:])\n",
    "    country = person.data[\"birth info\"][\"birth place\"].split(\",\")[-1].strip()\n",
    "    print(country)\n",
    "    return country\n",
    "\n",
    "def get_countries(df):\n",
    "    df[\"birth_country\"] = df[\"nconst\"].apply(get_country)\n",
    "    return df\n",
    "\n",
    "def parallelize_dataframe(df, func, n_cores=32):\n",
    "    df_split = np.array_split(df, n_cores)\n",
    "    pool = Pool(n_cores)\n",
    "    df = pd.concat(pool.map(func, df_split))\n",
    "    pool.close()\n",
    "    pool.join()\n",
    "    return df\n",
    "\n",
    "df = parallelize_dataframe(df, get_countries)\n",
    "\n",
    "print(df)"
   ]
  }
 ],
 "metadata": {
  "kernelspec": {
   "display_name": "Python 3",
   "language": "python",
   "name": "python3"
  },
  "language_info": {
   "codemirror_mode": {
    "name": "ipython",
    "version": 2
   },
   "file_extension": ".py",
   "mimetype": "text/x-python",
   "name": "python",
   "nbconvert_exporter": "python",
   "pygments_lexer": "ipython2",
   "version": "2.7.6"
  },
  "pycharm": {
   "stem_cell": {
    "cell_type": "raw",
    "source": [],
    "metadata": {
     "collapsed": false
    }
   }
  }
 },
 "nbformat": 4,
 "nbformat_minor": 0
}