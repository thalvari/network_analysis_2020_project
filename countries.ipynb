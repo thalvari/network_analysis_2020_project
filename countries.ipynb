{
 "cells": [
  {
   "cell_type": "code",
   "execution_count": 9,
   "metadata": {
    "collapsed": true,
    "pycharm": {
     "is_executing": false
    }
   },
   "outputs": [
    {
     "name": "stdout",
     "text": [
      "Sweden\n",
      "UK\n",
      "USA\n",
      "USA\n",
      "USA\n",
      "USA\n",
      "USA\n",
      "USA\n",
      "France\n",
      "USA\n"
     ],
     "output_type": "stream"
    },
    {
     "data": {
      "text/plain": "      nconst birth_country\n0  nm0000001           USA\n1  nm0000002           USA\n2  nm0000003        France\n3  nm0000006        Sweden\n4  nm0000007           USA\n5  nm0000008           USA\n6  nm0000009            UK\n7  nm0000010           USA\n8  nm0000011           USA\n9  nm0000012           USA",
      "text/html": "<div>\n<style scoped>\n    .dataframe tbody tr th:only-of-type {\n        vertical-align: middle;\n    }\n\n    .dataframe tbody tr th {\n        vertical-align: top;\n    }\n\n    .dataframe thead th {\n        text-align: right;\n    }\n</style>\n<table border=\"1\" class=\"dataframe\">\n  <thead>\n    <tr style=\"text-align: right;\">\n      <th></th>\n      <th>nconst</th>\n      <th>birth_country</th>\n    </tr>\n  </thead>\n  <tbody>\n    <tr>\n      <th>0</th>\n      <td>nm0000001</td>\n      <td>USA</td>\n    </tr>\n    <tr>\n      <th>1</th>\n      <td>nm0000002</td>\n      <td>USA</td>\n    </tr>\n    <tr>\n      <th>2</th>\n      <td>nm0000003</td>\n      <td>France</td>\n    </tr>\n    <tr>\n      <th>3</th>\n      <td>nm0000006</td>\n      <td>Sweden</td>\n    </tr>\n    <tr>\n      <th>4</th>\n      <td>nm0000007</td>\n      <td>USA</td>\n    </tr>\n    <tr>\n      <th>5</th>\n      <td>nm0000008</td>\n      <td>USA</td>\n    </tr>\n    <tr>\n      <th>6</th>\n      <td>nm0000009</td>\n      <td>UK</td>\n    </tr>\n    <tr>\n      <th>7</th>\n      <td>nm0000010</td>\n      <td>USA</td>\n    </tr>\n    <tr>\n      <th>8</th>\n      <td>nm0000011</td>\n      <td>USA</td>\n    </tr>\n    <tr>\n      <th>9</th>\n      <td>nm0000012</td>\n      <td>USA</td>\n    </tr>\n  </tbody>\n</table>\n</div>"
     },
     "metadata": {},
     "output_type": "execute_result",
     "execution_count": 9
    }
   ],
   "source": [
    "import pickle\n",
    "from multiprocessing.pool import Pool\n",
    "\n",
    "import imdb\n",
    "import numpy as np\n",
    "import pandas as pd\n",
    "\n",
    "with open(\"data/actors.pkl\", \"rb\") as f:\n",
    "    df = pd.DataFrame(sorted(pickle.load(f)), columns=[\"nconst\"])\n",
    "\n",
    "def get_country(nconst):\n",
    "    ia = imdb.IMDb()\n",
    "    person = ia.get_person(nconst[2:])\n",
    "    country = person.data[\"birth info\"][\"birth place\"].split(\",\")[-1].strip()\n",
    "    print(country)\n",
    "    return country\n",
    "\n",
    "def get_countries(df):\n",
    "    df[\"birth_country\"] = df[\"nconst\"].apply(get_country)\n",
    "    return df\n",
    "\n",
    "def parallelize_dataframe(df, func, n_cores=32):\n",
    "    df_split = np.array_split(df, n_cores)\n",
    "    pool = Pool(n_cores)\n",
    "    df = pd.concat(pool.map(func, df_split))\n",
    "    pool.close()\n",
    "    pool.join()\n",
    "    return df\n",
    "\n",
    "df = parallelize_dataframe(df, get_countries)\n",
    "df.to_pickle(\"data/birth_countries.pkl\")\n",
    "\n",
    "df"
   ]
  }
 ],
 "metadata": {
  "kernelspec": {
   "display_name": "Python 3",
   "language": "python",
   "name": "python3"
  },
  "language_info": {
   "codemirror_mode": {
    "name": "ipython",
    "version": 2
   },
   "file_extension": ".py",
   "mimetype": "text/x-python",
   "name": "python",
   "nbconvert_exporter": "python",
   "pygments_lexer": "ipython2",
   "version": "2.7.6"
  },
  "pycharm": {
   "stem_cell": {
    "cell_type": "raw",
    "source": [],
    "metadata": {
     "collapsed": false
    }
   }
  }
 },
 "nbformat": 4,
 "nbformat_minor": 0
}