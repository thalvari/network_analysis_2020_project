{
 "cells": [
  {
   "cell_type": "code",
   "execution_count": 7,
   "metadata": {
    "pycharm": {
     "is_executing": false,
     "name": "#%%\n"
    }
   },
   "outputs": [],
   "source": [
    "import pickle\n",
    "from collections import Counter\n",
    "from multiprocessing.pool import Pool\n",
    "\n",
    "import numpy as np\n",
    "import pandas as pd\n",
    "\n",
    "from countries import get_countries"
   ]
  },
  {
   "cell_type": "code",
   "execution_count": null,
   "outputs": [],
   "source": [
    "with open(\"data/actors.pkl\", \"rb\") as f:\n",
    "    df = pd.DataFrame(sorted(pickle.load(f)), columns=[\"nconst\"])\n",
    "\n",
    "def parallelize_dataframe(df, func, n_cores=12):\n",
    "    df_split = np.array_split(df, n_cores)\n",
    "    pool = Pool(n_cores)\n",
    "    df = pd.concat(pool.map(func, df_split))\n",
    "    pool.close()\n",
    "    pool.join()\n",
    "    return df"
   ],
   "metadata": {
    "collapsed": false,
    "pycharm": {
     "name": "#%%\n"
    }
   }
  },
  {
   "cell_type": "code",
   "execution_count": 2,
   "outputs": [],
   "source": [
    "df = parallelize_dataframe(df, get_countries)"
   ],
   "metadata": {
    "collapsed": false,
    "pycharm": {
     "name": "#%%\n",
     "is_executing": false
    }
   }
  },
  {
   "cell_type": "code",
   "execution_count": 3,
   "outputs": [
    {
     "data": {
      "text/plain": "          nconst birth_country\n0      nm0000001           USA\n1      nm0000002           USA\n2      nm0000003        France\n3      nm0000006        Sweden\n4      nm0000007           USA\n...          ...           ...\n13414  nm9656000              \n13415  nm9706424              \n13416  nm9712684              \n13417  nm9845146         India\n13418  nm9969854              \n\n[13419 rows x 2 columns]",
      "text/html": "<div>\n<style scoped>\n    .dataframe tbody tr th:only-of-type {\n        vertical-align: middle;\n    }\n\n    .dataframe tbody tr th {\n        vertical-align: top;\n    }\n\n    .dataframe thead th {\n        text-align: right;\n    }\n</style>\n<table border=\"1\" class=\"dataframe\">\n  <thead>\n    <tr style=\"text-align: right;\">\n      <th></th>\n      <th>nconst</th>\n      <th>birth_country</th>\n    </tr>\n  </thead>\n  <tbody>\n    <tr>\n      <th>0</th>\n      <td>nm0000001</td>\n      <td>USA</td>\n    </tr>\n    <tr>\n      <th>1</th>\n      <td>nm0000002</td>\n      <td>USA</td>\n    </tr>\n    <tr>\n      <th>2</th>\n      <td>nm0000003</td>\n      <td>France</td>\n    </tr>\n    <tr>\n      <th>3</th>\n      <td>nm0000006</td>\n      <td>Sweden</td>\n    </tr>\n    <tr>\n      <th>4</th>\n      <td>nm0000007</td>\n      <td>USA</td>\n    </tr>\n    <tr>\n      <th>...</th>\n      <td>...</td>\n      <td>...</td>\n    </tr>\n    <tr>\n      <th>13414</th>\n      <td>nm9656000</td>\n      <td></td>\n    </tr>\n    <tr>\n      <th>13415</th>\n      <td>nm9706424</td>\n      <td></td>\n    </tr>\n    <tr>\n      <th>13416</th>\n      <td>nm9712684</td>\n      <td></td>\n    </tr>\n    <tr>\n      <th>13417</th>\n      <td>nm9845146</td>\n      <td>India</td>\n    </tr>\n    <tr>\n      <th>13418</th>\n      <td>nm9969854</td>\n      <td></td>\n    </tr>\n  </tbody>\n</table>\n<p>13419 rows × 2 columns</p>\n</div>"
     },
     "metadata": {},
     "output_type": "execute_result",
     "execution_count": 3
    }
   ],
   "source": [
    "df.to_pickle(\"data/birth_countries.pkl\")"
   ],
   "metadata": {
    "collapsed": false,
    "pycharm": {
     "name": "#%%\n",
     "is_executing": false
    }
   }
  },
  {
   "cell_type": "code",
   "execution_count": 14,
   "outputs": [
    {
     "name": "stdout",
     "text": [
      "0 ('USA', 2710)\n",
      "1 ('', 2638)\n",
      "2 ('Japan', 968)\n",
      "3 ('UK', 635)\n",
      "4 ('France', 585)\n",
      "5 ('India', 583)\n",
      "6 ('Italy', 497)\n",
      "7 ('Germany', 394)\n",
      "8 ('Turkey', 330)\n",
      "9 ('Mexico', 279)\n",
      "10 ('China', 272)\n",
      "11 ('British India', 261)\n",
      "12 ('Spain', 259)\n",
      "13 ('Russia', 207)\n",
      "14 ('Philippines', 206)\n",
      "15 ('Canada', 157)\n",
      "16 ('Egypt', 147)\n",
      "17 ('Sweden', 126)\n",
      "18 ('Argentina', 122)\n",
      "19 ('Austria', 116)\n",
      "20 ('Greece', 114)\n",
      "21 ('Czech Republic', 109)\n",
      "22 ('Hong Kong', 104)\n",
      "23 ('Poland', 102)\n",
      "24 ('Denmark', 100)\n",
      "25 ('Taiwan', 89)\n",
      "26 ('Australia', 75)\n",
      "27 ('Hungary', 75)\n",
      "28 ('Brazil', 70)\n",
      "29 ('Iran', 61)\n",
      "30 ('South Korea', 57)\n",
      "31 ('Romania', 56)\n",
      "32 ('Ukraine', 52)\n",
      "33 ('Yugoslavia', 47)\n",
      "34 ('Indonesia', 41)\n",
      "35 ('Ireland', 39)\n",
      "36 ('Belgium', 38)\n",
      "37 ('Switzerland', 32)\n",
      "38 ('Pakistan', 30)\n",
      "39 ('Netherlands', 27)\n",
      "40 ('Finland', 27)\n",
      "41 ('Bulgaria', 23)\n",
      "42 ('Austria-Hungary', 22)\n",
      "43 ('British Crown Colony', 22)\n",
      "44 ('Cuba', 21)\n",
      "45 ('Korea', 18)\n",
      "46 ('Algeria', 17)\n",
      "47 ('Norway', 17)\n",
      "48 ('Slovakia', 16)\n",
      "49 ('Malaysia', 16)\n",
      "50 ('Bangladesh', 16)\n",
      "51 ('Israel', 15)\n",
      "52 ('South Africa', 15)\n",
      "53 ('Chile', 14)\n",
      "54 ('Republic of China', 14)\n",
      "55 ('Puerto Rico', 12)\n",
      "56 ('Portugal', 12)\n",
      "57 ('Croatia', 11)\n",
      "58 ('Colombia', 10)\n",
      "59 ('Lithuania', 9)\n",
      "60 ('Latvia', 9)\n",
      "61 ('Lebanon', 8)\n",
      "62 ('West Germany', 8)\n",
      "63 ('Morocco', 8)\n",
      "64 ('Sri Lanka', 8)\n",
      "65 ('Singapore', 8)\n",
      "66 ('Uruguay', 8)\n",
      "67 ('East Pakistan', 8)\n",
      "68 ('Tunisia', 7)\n",
      "69 ('Republic of Georgia', 7)\n",
      "70 ('New Zealand', 6)\n",
      "71 ('Czechoslovakia', 6)\n",
      "72 ('Venezuela', 6)\n",
      "73 ('Nepal', 6)\n",
      "74 ('Albania', 5)\n",
      "75 ('Vietnam', 5)\n",
      "76 ('in Bangladesh', 5)\n",
      "77 ('Dominican Republic', 5)\n",
      "78 ('Azerbaijan', 5)\n",
      "79 ('East Germany', 5)\n",
      "80 ('Kazakhstan', 5)\n",
      "81 ('Republic of Ireland', 4)\n",
      "82 ('in Czech Republic', 4)\n",
      "83 ('Cyprus', 4)\n",
      "84 ('Thailand', 4)\n",
      "85 ('Slovak Republic', 4)\n",
      "86 ('Estonia', 4)\n",
      "87 ('Serbia', 3)\n",
      "88 ('Syria', 3)\n",
      "89 ('USSR', 3)\n",
      "90 ('Luxembourg', 3)\n",
      "91 ('Armenia', 3)\n",
      "92 ('Uzbekistan', 3)\n",
      "93 ('Peru', 3)\n",
      "94 ('Belarus', 3)\n",
      "95 ('Ceylon', 3)\n",
      "96 ('Monaco', 2)\n",
      "97 ('Iraq', 2)\n",
      "98 ('Costa Rica', 2)\n",
      "99 ('Macedonia', 2)\n",
      "100 ('British Burma', 2)\n",
      "101 ('Moldova', 2)\n",
      "102 ('Senegal', 2)\n",
      "103 ('Republic of Moldova', 2)\n",
      "104 ('México', 2)\n",
      "105 ('Iceland', 2)\n",
      "106 ('England', 2)\n",
      "107 ('German Democratic Republic', 2)\n",
      "108 ('Nigeria', 2)\n",
      "109 ('North Korea', 2)\n",
      "110 ('East Indies', 2)\n",
      "111 ('Persia', 2)\n",
      "112 ('British West Indies', 2)\n",
      "113 ('US Virgin Islands', 1)\n",
      "114 ('Swaziland', 1)\n",
      "115 ('Saudi Arabia', 1)\n",
      "116 ('Panama', 1)\n",
      "117 ('Benin', 1)\n",
      "118 ('Texas', 1)\n",
      "119 ('Châlons-en-Champagne', 1)\n",
      "120 ('Turkmenistan', 1)\n",
      "121 ('Kyrgyzstan', 1)\n",
      "122 ('Ottoman Empire', 1)\n",
      "123 ('Guyana', 1)\n",
      "124 ('Slovenia', 1)\n",
      "125 ('Malta', 1)\n",
      "126 ('Japan some sources say  April ', 1)\n",
      "127 ('Gabon', 1)\n",
      "128 ('Angola', 1)\n",
      "129 ('Ivory Coast', 1)\n",
      "130 ('Sikkim', 1)\n",
      "131 ('Ecuador', 1)\n",
      "132 ('Portuguese Macau', 1)\n",
      "133 ('Eritrea', 1)\n",
      "134 ('Democratic Republic of the Congo', 1)\n",
      "135 ('East India', 1)\n",
      "136 ('Bermuda', 1)\n",
      "137 ('Occupied Manchuria', 1)\n",
      "138 ('in Pakistan', 1)\n",
      "139 ('USA some sources erroneously say  December ', 1)\n",
      "140 ('Berlin', 1)\n",
      "141 ('USA other sources say ', 1)\n",
      "142 ('Georgia', 1)\n",
      "143 ('czech republic', 1)\n",
      "144 ('Federal Republic of Germany', 1)\n",
      "145 ('Bosnia and Herzegovina', 1)\n",
      "146 ('KocaeliTurkey', 1)\n",
      "147 ('Tibet', 1)\n",
      "148 ('Russian Empire', 1)\n",
      "149 ('Laos', 1)\n",
      "150 ('West Indies', 1)\n",
      "151 ('at sea', 1)\n",
      "152 ('Trinidad and Tobago', 1)\n",
      "153 ('Fukuoka Prefecture', 1)\n",
      "154 ('Libya', 1)\n",
      "155 ('Afghanistan', 1)\n",
      "156 ('Oklahoma', 1)\n",
      "157 ('Germany some sources say ', 1)\n",
      "158 ('Manila', 1)\n",
      "159 ('Yemen', 1)\n",
      "160 ('Yamaguchi Prefecture Japan', 1)\n",
      "161 ('Crimea', 1)\n",
      "162 ('Dutch East Indies', 1)\n",
      "163 ('Congo', 1)\n",
      "164 ('Haiti', 1)\n",
      "165 ('Guatemala', 1)\n",
      "166 ('the Dutch East Indies', 1)\n",
      "167 ('Commonwealth of the Philippines', 1)\n",
      "168 ('Phillippines', 1)\n",
      "169 ('British Raj', 1)\n",
      "170 ('Chinchwad', 1)\n",
      "171 ('Teraute Dang Nepal', 1)\n"
     ],
     "output_type": "stream"
    }
   ],
   "source": [
    "df_ = pd.read_pickle(\"data/birth_countries.pkl\")\n",
    "countries = Counter(df_[\"birth_country\"].values).most_common()\n",
    "for i, country in enumerate(countries):\n",
    "    print(i, country)"
   ],
   "metadata": {
    "collapsed": false,
    "pycharm": {
     "name": "#%%\n",
     "is_executing": false
    }
   }
  }
 ],
 "metadata": {
  "kernelspec": {
   "display_name": "Python 3",
   "language": "python",
   "name": "python3"
  },
  "language_info": {
   "codemirror_mode": {
    "name": "ipython",
    "version": 3
   },
   "file_extension": ".py",
   "mimetype": "text/x-python",
   "name": "python",
   "nbconvert_exporter": "python",
   "pygments_lexer": "ipython3",
   "version": "3.8.2"
  },
  "pycharm": {
   "stem_cell": {
    "cell_type": "raw",
    "source": [],
    "metadata": {
     "collapsed": false
    }
   }
  }
 },
 "nbformat": 4,
 "nbformat_minor": 1
}