{
 "cells": [
  {
   "cell_type": "code",
   "execution_count": 6,
   "metadata": {
    "pycharm": {
     "is_executing": false,
     "name": "#%%\n"
    }
   },
   "outputs": [],
   "source": [
    "import pickle\n",
    "from collections import Counter\n",
    "from multiprocessing.pool import Pool\n",
    "\n",
    "import numpy as np\n",
    "import pandas as pd\n",
    "from IPython.core.display import display\n",
    "\n",
    "from countries import get_countries"
   ]
  },
  {
   "cell_type": "code",
   "execution_count": 2,
   "outputs": [],
   "source": [
    "with open(\"data/actors.pkl\", \"rb\") as f:\n",
    "    df = pd.DataFrame(sorted(pickle.load(f)), columns=[\"nconst\"])\n",
    "\n",
    "def parallelize_dataframe(df, func, n_cores=12):\n",
    "    df_split = np.array_split(df, n_cores)\n",
    "    pool = Pool(n_cores)\n",
    "    df = pd.concat(pool.map(func, df_split))\n",
    "    pool.close()\n",
    "    pool.join()\n",
    "    return df"
   ],
   "metadata": {
    "collapsed": false,
    "pycharm": {
     "name": "#%%\n",
     "is_executing": false
    }
   }
  },
  {
   "cell_type": "code",
   "execution_count": 3,
   "outputs": [],
   "source": [
    "df = parallelize_dataframe(df, get_countries)"
   ],
   "metadata": {
    "collapsed": false,
    "pycharm": {
     "name": "#%%\n",
     "is_executing": false
    }
   }
  },
  {
   "cell_type": "code",
   "execution_count": 4,
   "outputs": [],
   "source": [
    "df = pd.read_pickle(\"data/birth_countries.pkl\")\n",
    "\n",
    "df = df[df[\"birth_country\"] != \"\"]\n",
    "df[\"count\"] = df[\"birth_country\"].map(df[\"birth_country\"].value_counts())\n",
    "df = df[df[\"count\"] > 1]\n",
    "df = df.reset_index().drop([\"index\", \"count\"], axis=1)\n",
    "\n",
    "# df.to_pickle(\"data/birth_countries.pkl\")"
   ],
   "metadata": {
    "collapsed": false,
    "pycharm": {
     "name": "#%%\n",
     "is_executing": false
    }
   }
  },
  {
   "cell_type": "code",
   "execution_count": 5,
   "outputs": [
    {
     "name": "stdout",
     "text": [
      "0 ('USA', 2710)\n",
      "1 ('', 2640)\n",
      "2 ('Japan', 968)\n",
      "3 ('UK', 635)\n",
      "4 ('France', 585)\n",
      "5 ('India', 582)\n",
      "6 ('Italy', 497)\n",
      "7 ('Germany', 394)\n",
      "8 ('Turkey', 330)\n",
      "9 ('Mexico', 279)\n",
      "10 ('China', 272)\n",
      "11 ('British India', 261)\n",
      "12 ('Spain', 259)\n",
      "13 ('Russia', 207)\n",
      "14 ('Philippines', 206)\n",
      "15 ('Canada', 157)\n",
      "16 ('Egypt', 147)\n",
      "17 ('Sweden', 126)\n",
      "18 ('Argentina', 122)\n",
      "19 ('Austria', 116)\n",
      "20 ('Greece', 114)\n",
      "21 ('Czech Republic', 113)\n",
      "22 ('Hong Kong', 104)\n",
      "23 ('Poland', 102)\n",
      "24 ('Denmark', 100)\n",
      "25 ('Taiwan', 89)\n",
      "26 ('Australia', 75)\n",
      "27 ('Hungary', 75)\n",
      "28 ('Brazil', 70)\n",
      "29 ('Iran', 61)\n",
      "30 ('South Korea', 57)\n",
      "31 ('Romania', 55)\n",
      "32 ('Ukraine', 52)\n",
      "33 ('Yugoslavia', 47)\n",
      "34 ('Indonesia', 41)\n",
      "35 ('Ireland', 39)\n",
      "36 ('Belgium', 38)\n",
      "37 ('Switzerland', 32)\n",
      "38 ('Pakistan', 31)\n",
      "39 ('Netherlands', 27)\n",
      "40 ('Finland', 27)\n",
      "41 ('Bulgaria', 23)\n",
      "42 ('Austria-Hungary', 22)\n",
      "43 ('British Crown Colony', 22)\n",
      "44 ('Cuba', 21)\n",
      "45 ('Bangladesh', 21)\n",
      "46 ('Korea', 18)\n",
      "47 ('Algeria', 17)\n",
      "48 ('Norway', 17)\n",
      "49 ('Slovakia', 16)\n",
      "50 ('Israel', 15)\n",
      "51 ('South Africa', 15)\n",
      "52 ('Malaysia', 15)\n",
      "53 ('Chile', 14)\n",
      "54 ('Republic of China', 14)\n",
      "55 ('Puerto Rico', 12)\n",
      "56 ('Croatia', 11)\n",
      "57 ('Portugal', 11)\n",
      "58 ('Colombia', 10)\n",
      "59 ('Lithuania', 9)\n",
      "60 ('Latvia', 9)\n",
      "61 ('Lebanon', 8)\n",
      "62 ('West Germany', 8)\n",
      "63 ('Morocco', 8)\n",
      "64 ('Sri Lanka', 8)\n",
      "65 ('Singapore', 8)\n",
      "66 ('Uruguay', 8)\n",
      "67 ('East Pakistan', 8)\n",
      "68 ('Tunisia', 7)\n",
      "69 ('Republic of Georgia', 7)\n",
      "70 ('New Zealand', 6)\n",
      "71 ('Czechoslovakia', 6)\n",
      "72 ('Venezuela', 6)\n",
      "73 ('Nepal', 6)\n",
      "74 ('Albania', 5)\n",
      "75 ('Vietnam', 5)\n",
      "76 ('Dominican Republic', 5)\n",
      "77 ('Azerbaijan', 5)\n",
      "78 ('East Germany', 5)\n",
      "79 ('Kazakhstan', 5)\n",
      "80 ('Republic of Ireland', 4)\n",
      "81 ('Cyprus', 4)\n",
      "82 ('Thailand', 4)\n",
      "83 ('Slovak Republic', 4)\n",
      "84 ('Estonia', 4)\n",
      "85 ('Serbia', 3)\n",
      "86 ('Syria', 3)\n",
      "87 ('USSR', 3)\n",
      "88 ('Luxembourg', 3)\n",
      "89 ('Armenia', 3)\n",
      "90 ('Uzbekistan', 3)\n",
      "91 ('Peru', 3)\n",
      "92 ('Belarus', 3)\n",
      "93 ('Ceylon', 3)\n",
      "94 ('Monaco', 2)\n",
      "95 ('Iraq', 2)\n",
      "96 ('Costa Rica', 2)\n",
      "97 ('Macedonia', 2)\n",
      "98 ('British Burma', 2)\n",
      "99 ('Moldova', 2)\n",
      "100 ('Senegal', 2)\n",
      "101 ('Republic of Moldova', 2)\n",
      "102 ('México', 2)\n",
      "103 ('Iceland', 2)\n",
      "104 ('England', 2)\n",
      "105 ('German Democratic Republic', 2)\n",
      "106 ('Nigeria', 2)\n",
      "107 ('North Korea', 2)\n",
      "108 ('East Indies', 2)\n",
      "109 ('Persia', 2)\n",
      "110 ('British West Indies', 2)\n",
      "111 ('U.S. Virgin Islands', 1)\n",
      "112 ('Swaziland', 1)\n",
      "113 ('Saudi Arabia', 1)\n",
      "114 ('Panama', 1)\n",
      "115 ('Benin', 1)\n",
      "116 ('Texas', 1)\n",
      "117 ('Châlons-en-Champagne', 1)\n",
      "118 ('Turkmenistan', 1)\n",
      "119 ('Kyrgyzstan', 1)\n",
      "120 ('Ottoman Empire', 1)\n",
      "121 ('Guyana', 1)\n",
      "122 ('Slovenia', 1)\n",
      "123 ('Malta', 1)\n",
      "124 ('Japan (some sources say 28 April 1917)', 1)\n",
      "125 ('Gabon', 1)\n",
      "126 ('Angola', 1)\n",
      "127 ('Ivory Coast', 1)\n",
      "128 ('Sikkim', 1)\n",
      "129 ('Ecuador', 1)\n",
      "130 ('Portuguese Macau', 1)\n",
      "131 ('Eritrea', 1)\n",
      "132 ('Democratic Republic of the Congo', 1)\n",
      "133 ('East India', 1)\n",
      "134 ('Bermuda', 1)\n",
      "135 ('Occupied Manchuria', 1)\n",
      "136 ('USA (some sources erroneously say 4 December 1889)', 1)\n",
      "137 ('Berlin', 1)\n",
      "138 ('USA (other sources say 1880)', 1)\n",
      "139 ('Georgia', 1)\n",
      "140 ('czech republic', 1)\n",
      "141 ('Federal Republic of Germany', 1)\n",
      "142 ('Bosnia and Herzegovina', 1)\n",
      "143 ('Kocaeli/Turkey', 1)\n",
      "144 ('Tibet', 1)\n",
      "145 ('Russian Empire', 1)\n",
      "146 ('Laos', 1)\n",
      "147 ('West Indies', 1)\n",
      "148 ('at sea', 1)\n",
      "149 ('Trinidad and Tobago', 1)\n",
      "150 ('Romania)', 1)\n",
      "151 ('Fukuoka Prefecture', 1)\n",
      "152 ('Libya', 1)\n",
      "153 ('Afghanistan', 1)\n",
      "154 ('Oklahoma', 1)\n",
      "155 ('Germany (some sources say 1888)', 1)\n",
      "156 ('Manila', 1)\n",
      "157 ('(now Malaysia)', 1)\n",
      "158 ('Yemen', 1)\n",
      "159 ('Yamaguchi Prefecture. Japan', 1)\n",
      "160 ('Crimea', 1)\n",
      "161 ('Dutch East Indies', 1)\n",
      "162 ('Congo', 1)\n",
      "163 ('Haiti', 1)\n",
      "164 ('Guatemala', 1)\n",
      "165 ('the Dutch East Indies', 1)\n",
      "166 ('Commonwealth of the Philippines', 1)\n",
      "167 ('Phillippines', 1)\n",
      "168 ('British Raj', 1)\n",
      "169 ('Chinchwad', 1)\n",
      "170 ('Teraute Dang Nepal', 1)\n"
     ],
     "output_type": "stream"
    }
   ],
   "source": [
    "# df = pd.read_pickle(\"data/birth_countries.pkl\")\n",
    "\n",
    "# pd.set_option(\"display.max_rows\", None)\n",
    "display(df)\n",
    "\n",
    "countries = Counter(df[\"birth_country\"].values).most_common()\n",
    "for i, country in enumerate(countries):\n",
    "    print(i, country)"
   ],
   "metadata": {
    "collapsed": false,
    "pycharm": {
     "name": "#%%\n",
     "is_executing": false
    }
   }
  }
 ],
 "metadata": {
  "kernelspec": {
   "display_name": "Python 3",
   "language": "python",
   "name": "python3"
  },
  "language_info": {
   "codemirror_mode": {
    "name": "ipython",
    "version": 3
   },
   "file_extension": ".py",
   "mimetype": "text/x-python",
   "name": "python",
   "nbconvert_exporter": "python",
   "pygments_lexer": "ipython3",
   "version": "3.8.2"
  },
  "pycharm": {
   "stem_cell": {
    "cell_type": "raw",
    "source": [],
    "metadata": {
     "collapsed": false
    }
   }
  }
 },
 "nbformat": 4,
 "nbformat_minor": 1
}