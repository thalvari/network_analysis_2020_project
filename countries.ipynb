{
 "cells": [
  {
   "cell_type": "code",
   "execution_count": 6,
   "metadata": {
    "pycharm": {
     "is_executing": false,
     "name": "#%%\n"
    }
   },
   "outputs": [],
   "source": [
    "import pickle\n",
    "from collections import Counter\n",
    "from multiprocessing.pool import Pool\n",
    "\n",
    "import numpy as np\n",
    "import pandas as pd\n",
    "from IPython.core.display import display\n",
    "\n",
    "from countries import get_countries"
   ]
  },
  {
   "cell_type": "code",
   "execution_count": 2,
   "outputs": [],
   "source": [
    "with open(\"data/actors.pkl\", \"rb\") as f:\n",
    "    df = pd.DataFrame(sorted(pickle.load(f)), columns=[\"nconst\"])\n",
    "\n",
    "def parallelize_dataframe(df, func, n_cores=12):\n",
    "    df_split = np.array_split(df, n_cores)\n",
    "    pool = Pool(n_cores)\n",
    "    df = pd.concat(pool.map(func, df_split))\n",
    "    pool.close()\n",
    "    pool.join()\n",
    "    return df"
   ],
   "metadata": {
    "collapsed": false,
    "pycharm": {
     "name": "#%%\n",
     "is_executing": false
    }
   }
  },
  {
   "cell_type": "code",
   "execution_count": 3,
   "outputs": [],
   "source": [
    "df = parallelize_dataframe(df, get_countries)"
   ],
   "metadata": {
    "collapsed": false,
    "pycharm": {
     "name": "#%%\n",
     "is_executing": false
    }
   }
  },
  {
   "cell_type": "code",
   "execution_count": 11,
   "outputs": [],
   "source": [
    "# df = pd.read_pickle(\"data/birth_countries.pkl\")\n",
    "\n",
    "df = df[df[\"birth_country\"] != \"\"]\n",
    "df[\"count\"] = df[\"birth_country\"].map(df[\"birth_country\"].value_counts())\n",
    "df = df[df[\"count\"] >= 20]\n",
    "df = df.reset_index().drop([\"index\", \"count\"], axis=1)\n",
    "\n",
    "df.to_pickle(\"data/birth_countries.pkl\")"
   ],
   "metadata": {
    "collapsed": false,
    "pycharm": {
     "name": "#%%\n",
     "is_executing": false
    }
   }
  },
  {
   "cell_type": "code",
   "execution_count": 16,
   "outputs": [
    {
     "data": {
      "text/plain": "          nconst  birth_country\n0      nm0000001            USA\n1      nm0000002            USA\n2      nm0000003         France\n3      nm0000006         Sweden\n4      nm0000007            USA\n...          ...            ...\n10306  nm9144951          Japan\n10307  nm9343226          Egypt\n10308  nm9384165          Japan\n10309  nm9535860  British India\n10310  nm9845146          India\n\n[10311 rows x 2 columns]",
      "text/html": "<div>\n<style scoped>\n    .dataframe tbody tr th:only-of-type {\n        vertical-align: middle;\n    }\n\n    .dataframe tbody tr th {\n        vertical-align: top;\n    }\n\n    .dataframe thead th {\n        text-align: right;\n    }\n</style>\n<table border=\"1\" class=\"dataframe\">\n  <thead>\n    <tr style=\"text-align: right;\">\n      <th></th>\n      <th>nconst</th>\n      <th>birth_country</th>\n    </tr>\n  </thead>\n  <tbody>\n    <tr>\n      <th>0</th>\n      <td>nm0000001</td>\n      <td>USA</td>\n    </tr>\n    <tr>\n      <th>1</th>\n      <td>nm0000002</td>\n      <td>USA</td>\n    </tr>\n    <tr>\n      <th>2</th>\n      <td>nm0000003</td>\n      <td>France</td>\n    </tr>\n    <tr>\n      <th>3</th>\n      <td>nm0000006</td>\n      <td>Sweden</td>\n    </tr>\n    <tr>\n      <th>4</th>\n      <td>nm0000007</td>\n      <td>USA</td>\n    </tr>\n    <tr>\n      <th>...</th>\n      <td>...</td>\n      <td>...</td>\n    </tr>\n    <tr>\n      <th>10306</th>\n      <td>nm9144951</td>\n      <td>Japan</td>\n    </tr>\n    <tr>\n      <th>10307</th>\n      <td>nm9343226</td>\n      <td>Egypt</td>\n    </tr>\n    <tr>\n      <th>10308</th>\n      <td>nm9384165</td>\n      <td>Japan</td>\n    </tr>\n    <tr>\n      <th>10309</th>\n      <td>nm9535860</td>\n      <td>British India</td>\n    </tr>\n    <tr>\n      <th>10310</th>\n      <td>nm9845146</td>\n      <td>India</td>\n    </tr>\n  </tbody>\n</table>\n<p>10311 rows × 2 columns</p>\n</div>"
     },
     "metadata": {},
     "output_type": "display_data"
    },
    {
     "name": "stdout",
     "text": [
      "0 ('USA', 2710)\n",
      "1 ('Japan', 968)\n",
      "2 ('UK', 635)\n",
      "3 ('France', 585)\n",
      "4 ('India', 582)\n",
      "5 ('Italy', 497)\n",
      "6 ('Germany', 394)\n",
      "7 ('Turkey', 330)\n",
      "8 ('Mexico', 279)\n",
      "9 ('China', 272)\n",
      "10 ('British India', 261)\n",
      "11 ('Spain', 259)\n",
      "12 ('Russia', 207)\n",
      "13 ('Philippines', 206)\n",
      "14 ('Canada', 157)\n",
      "15 ('Egypt', 147)\n",
      "16 ('Sweden', 126)\n",
      "17 ('Argentina', 122)\n",
      "18 ('Austria', 116)\n",
      "19 ('Greece', 114)\n",
      "20 ('Czech Republic', 113)\n",
      "21 ('Hong Kong', 104)\n",
      "22 ('Poland', 102)\n",
      "23 ('Denmark', 100)\n",
      "24 ('Taiwan', 89)\n",
      "25 ('Australia', 75)\n",
      "26 ('Hungary', 75)\n",
      "27 ('Brazil', 70)\n",
      "28 ('Iran', 61)\n",
      "29 ('South Korea', 57)\n",
      "30 ('Romania', 55)\n",
      "31 ('Ukraine', 52)\n",
      "32 ('Yugoslavia', 47)\n",
      "33 ('Indonesia', 41)\n",
      "34 ('Ireland', 39)\n",
      "35 ('Belgium', 38)\n",
      "36 ('Switzerland', 32)\n",
      "37 ('Pakistan', 31)\n",
      "38 ('Netherlands', 27)\n",
      "39 ('Finland', 27)\n",
      "40 ('Bulgaria', 23)\n",
      "41 ('Austria-Hungary', 22)\n",
      "42 ('British Crown Colony', 22)\n",
      "43 ('Cuba', 21)\n",
      "44 ('Bangladesh', 21)\n"
     ],
     "output_type": "stream"
    }
   ],
   "source": [
    "# df = pd.read_pickle(\"data/birth_countries.pkl\")\n",
    "\n",
    "# pd.set_option(\"display.max_rows\", None)\n",
    "display(df)\n",
    "\n",
    "countries = Counter(df[\"birth_country\"].values).most_common()\n",
    "for i, country in enumerate(countries):\n",
    "    print(i, country)"
   ],
   "metadata": {
    "collapsed": false,
    "pycharm": {
     "name": "#%%\n",
     "is_executing": false
    }
   }
  }
 ],
 "metadata": {
  "kernelspec": {
   "display_name": "Python 3",
   "language": "python",
   "name": "python3"
  },
  "language_info": {
   "codemirror_mode": {
    "name": "ipython",
    "version": 3
   },
   "file_extension": ".py",
   "mimetype": "text/x-python",
   "name": "python",
   "nbconvert_exporter": "python",
   "pygments_lexer": "ipython3",
   "version": "3.8.2"
  },
  "pycharm": {
   "stem_cell": {
    "cell_type": "raw",
    "source": [],
    "metadata": {
     "collapsed": false
    }
   }
  }
 },
 "nbformat": 4,
 "nbformat_minor": 1
}