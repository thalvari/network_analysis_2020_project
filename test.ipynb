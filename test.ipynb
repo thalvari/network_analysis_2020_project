{
 "cells": [
  {
   "cell_type": "code",
   "execution_count": null,
   "outputs": [],
   "source": [
    "from hdbscan import HDBSCAN\n",
    "import sklearn\n",
    "import numpy as np\n",
    "import networkx as nx\n",
    "import matplotlib.pyplot as plt\n",
    "from sklearn.cluster import SpectralClustering\n",
    "from matplotlib.cm import get_cmap\n",
    "%matplotlib inline\n",
    "\n",
    "# G = nx.Graph()\n",
    "# G.add_nodes_from(['A', 'B', 'C', 'D', 'E', 'F', 'G', 'H', 'I', 'J', 'K'])\n",
    "# G.add_edges_from([\n",
    "#     ('A', 'B'), ('A', 'C'), ('A', 'D'), ('A', 'E'), ('B', 'C'), ('B', 'F'), ('C', 'F'), ('D', 'G'), ('D', 'H'),\n",
    "#     ('E', 'H'), ('F', 'I'), ('G', 'I'), ('G', 'J'), ('H', 'J'), ('I', 'K'), ('J', 'K'),\n",
    "# ])\n",
    "G = nx.erdos_renyi_graph(15, .3, seed=42)\n",
    "pos_fr = nx.fruchterman_reingold_layout(G, seed=42)\n",
    "nx.draw(G, pos=pos_fr, node_size=800, node_color='red', with_labels=True)\n",
    "plt.show()\n",
    "\n",
    "adj_matrix = nx.to_numpy_matrix(G)\n",
    "node_list = list(G.nodes()) \n",
    "\n",
    "print(adj_matrix)\n",
    "clusters = SpectralClustering(\n",
    "    affinity='precomputed', assign_labels='discretize', random_state=42, n_clusters=4\n",
    ").fit_predict(adj_matrix)\n",
    "# clusters = HDBSCAN(\n",
    "#     metric='precomputed'\n",
    "# ).fit_predict(adj_matrix)\n",
    "print(node_list)\n",
    "print(clusters)\n",
    "\n",
    "cmap = get_cmap('tab20').colors\n",
    "for i in range(len(node_list)):\n",
    "    print(node_list[i])\n",
    "    print(cmap[clusters[i]])\n",
    "    nx.draw_networkx_nodes(\n",
    "        G, pos=pos_fr, nodelist={node_list[i]}, node_size=800, node_color=cmap[clusters[i]]\n",
    "    )\n",
    "nx.draw_networkx_edges(G, pos=pos_fr)\n",
    "nx.draw_networkx_labels(G, pos=pos_fr)"
   ],
   "metadata": {
    "collapsed": false,
    "pycharm": {
     "name": "#%%\n"
    }
   }
  }
 ],
 "metadata": {
  "kernelspec": {
   "display_name": "Python 3",
   "language": "python",
   "name": "python3"
  },
  "language_info": {
   "codemirror_mode": {
    "name": "ipython",
    "version": 2
   },
   "file_extension": ".py",
   "mimetype": "text/x-python",
   "name": "python",
   "nbconvert_exporter": "python",
   "pygments_lexer": "ipython2",
   "version": "2.7.6"
  },
  "pycharm": {
   "stem_cell": {
    "cell_type": "raw",
    "source": [],
    "metadata": {
     "collapsed": false
    }
   }
  }
 },
 "nbformat": 4,
 "nbformat_minor": 0
}