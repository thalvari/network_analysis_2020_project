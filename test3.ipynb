{
 "cells": [
  {
   "cell_type": "markdown",
   "metadata": {
    "collapsed": false,
    "papermill": {
     "duration": 0.019418,
     "end_time": "2020-02-07T09:22:41.647489",
     "exception": false,
     "start_time": "2020-02-07T09:22:41.628071",
     "status": "completed"
    },
    "pycharm": {
     "name": "#%% md\n"
    },
    "tags": []
   },
   "source": [
    "# Clustering networks"
   ]
  },
  {
   "cell_type": "code",
   "execution_count": 1,
   "metadata": {
    "collapsed": false,
    "papermill": {
     "duration": 7.236279,
     "end_time": "2020-02-07T09:22:48.895418",
     "exception": false,
     "start_time": "2020-02-07T09:22:41.659139",
     "status": "completed"
    },
    "pycharm": {
     "is_executing": false,
     "name": "#%%\n"
    },
    "tags": []
   },
   "outputs": [],
   "source": [
    "import pickle\n",
    "import warnings\n",
    "warnings.filterwarnings('ignore')\n",
    "from matplotlib.axes._axes import _log\n",
    "_log.setLevel('ERROR')\n",
    "\n",
    "import matplotlib.pyplot as plt\n",
    "import networkx as nx\n",
    "import numpy as np\n",
    "from collections import Counter\n",
    "from hdbscan import HDBSCAN\n",
    "from matplotlib.cm import get_cmap\n",
    "from sklearn.manifold import spectral_embedding\n",
    "from umap import UMAP\n",
    "\n",
    "%matplotlib inline"
   ]
  },
  {
   "cell_type": "markdown",
   "metadata": {
    "collapsed": false,
    "papermill": {
     "duration": 0.010683,
     "end_time": "2020-02-07T09:22:48.922344",
     "exception": false,
     "start_time": "2020-02-07T09:22:48.911661",
     "status": "completed"
    },
    "pycharm": {
     "name": "#%% md\n"
    },
    "tags": []
   },
   "source": [
    "Notebook params:"
   ]
  },
  {
   "cell_type": "code",
   "execution_count": 2,
   "metadata": {
    "collapsed": false,
    "papermill": {
     "duration": 8.221374,
     "end_time": "2020-02-07T09:22:57.151517",
     "exception": false,
     "start_time": "2020-02-07T09:22:48.930143",
     "status": "completed"
    },
    "pycharm": {
     "is_executing": false,
     "name": "#%%\n"
    },
    "tags": []
   },
   "outputs": [
    {
     "name": "stdout",
     "output_type": "stream",
     "text": [
      "largest connected components: [77744, 121, 100, 76, 51]\n"
     ]
    }
   ],
   "source": [
    "seed = 42\n",
    "n_spectral_components = 200\n",
    "min_cluster_size = 800\n",
    "min_samples = 1600\n",
    "postfix = \"_3\""
   ]
  },
  {
   "cell_type": "markdown",
   "metadata": {
    "collapsed": false,
    "papermill": {
     "duration": 0.010778,
     "end_time": "2020-02-07T09:22:57.179546",
     "exception": false,
     "start_time": "2020-02-07T09:22:57.168768",
     "status": "completed"
    },
    "pycharm": {
     "name": "#%% md\n"
    },
    "tags": []
   },
   "source": [
    "Defining the network:"
   ]
  },
  {
   "cell_type": "code",
   "execution_count": 3,
   "metadata": {
    "collapsed": false,
    "papermill": {
     "duration": 18177.551796,
     "end_time": "2020-02-07T14:25:54.739246",
     "exception": false,
     "start_time": "2020-02-07T09:22:57.187450",
     "status": "completed"
    },
    "pycharm": {
     "is_executing": false,
     "name": "#%%\n"
    },
    "tags": []
   },
   "outputs": [
    {
     "name": "stdout",
     "output_type": "stream",
     "text": [
      "nodes: 77744\n",
      "clusters: 14\n",
      "cluster sizes: [(-1, 37023), (13, 9850), (11, 7240), (0, 3677), (3, 3487), (12, 2272), (2, 2134), (6, 2058), (8, 2000), (1, 1690), (4, 1555), (9, 1439), (10, 1360), (7, 1042), (5, 917)]\n",
      "noise level: 0.476\n"
     ]
    }
   ],
   "source": [
    "np.random.seed(seed)\n",
    "\n",
    "with open(\"data/imdb.pkl\", \"rb\") as f:\n",
    "    G = nx.Graph()\n",
    "    G.add_edges_from(pickle.load(f))\n",
    "\n",
    "G.remove_nodes_from(set(nx.nodes(G)) - max(nx.connected_components(G), key=len))\n",
    "adj_matrix = nx.to_numpy_array(G)\n",
    "node_list = list(G.nodes())\n",
    "\n",
    "print(f\"nodes: {len(node_list)}\")\n",
    "print(f\"edges: {len(G.edges())}\")"
   ]
  },
  {
   "cell_type": "markdown",
   "metadata": {
    "collapsed": false,
    "papermill": {
     "duration": 9246.109982,
     "end_time": "2020-02-07T17:00:00.868301",
     "exception": false,
     "start_time": "2020-02-07T14:25:54.758319",
     "status": "completed"
    },
    "pycharm": {
     "name": "#%% md\n"
    },
    "tags": []
   },
   "source": [
    "Reducing dimensions with Spectral Embedding and UMAP and clustering with HDBSCAN:"
   ]
  },
  {
   "cell_type": "code",
   "metadata": {
    "collapsed": false,
    "papermill": {
     "duration": 0.011648,
     "end_time": "2020-02-07T17:00:00.901635",
     "exception": false,
     "start_time": "2020-02-07T17:00:00.889987",
     "status": "completed"
    },
    "pycharm": {
     "is_executing": false,
     "name": "#%%\n"
    },
    "tags": []
   },
   "source": [
    "np.random.seed(seed)\n",
    "\n",
    "embedding = spectral_embedding(\n",
    "    adj_matrix, n_components=n_spectral_components, drop_first=False, random_state=np.random.RandomState(seed)\n",
    ")\n",
    "embedding = UMAP(\n",
    "    n_components=2, n_neighbors=30, min_dist=0.0, random_state=np.random.RandomState(seed)\n",
    ").fit_transform(embedding)\n",
    "\n",
    "clusters = HDBSCAN(\n",
    "    min_samples=min_samples, min_cluster_size=min_cluster_size, core_dist_n_jobs=-1\n",
    ").fit_predict(embedding)\n",
    "\n",
    "counter = Counter(clusters)\n",
    "print(f\"clusters: {len(counter) - 1}\")\n",
    "print(f\"cluster sizes: {sorted(counter.items(), key=lambda x: x[1], reverse=True)}\")\n",
    "print(f\"noise level: {np.round(counter[-1] / len(clusters), 3)}\")"
   ],
   "execution_count": null,
   "outputs": []
  },
  {
   "cell_type": "code",
   "execution_count": 5,
   "metadata": {
    "collapsed": false,
    "papermill": {
     "duration": 0.446026,
     "end_time": "2020-02-07T17:00:01.359036",
     "exception": false,
     "start_time": "2020-02-07T17:00:00.913010",
     "status": "completed"
    },
    "pycharm": {
     "name": "#%%\n"
    },
    "tags": []
   },
   "outputs": [],
   "source": [
    "np.random.seed(seed)\n",
    "\n",
    "def draw_network(G, pos, node_colors, pdf_name, node_size=1, edge_width=.1, font_size=1):\n",
    "    # degrees = [x[1] for x in nx.degree(G)]\n",
    "    # node_sizes = [50 * x / max(degrees) + 1 for x in degrees]\n",
    "    nx.draw_networkx_nodes(G, pos=pos, node_size=node_size, node_color=node_colors)\n",
    "    nx.draw_networkx_edges(G, pos=pos, width=edge_width)\n",
    "    # nx.draw_networkx_labels(G, pos=pos, font_size=font_size)\n",
    "    plt.savefig(f\"results/{pdf_name}.pdf\")\n",
    "    plt.show()\n",
    "\n",
    "cmap = get_cmap(\"tab20\").colors\n",
    "cmap = [cmap[i] for i in range(len(cmap)) if i % 2 == 0] + [cmap[i] for i in range(len(cmap)) if i % 2 == 1]\n",
    "node_colors = [cmap[cluster] for cluster in clusters]\n",
    "pos_su = {node_list[i]: embedding[i] for i in range(len(node_list))}\n",
    "pos_fr = nx.fruchterman_reingold_layout(G, seed=seed)\n",
    "\n",
    "draw_network(G, pos=pos_su, node_colors=node_colors, pdf_name=\"graph_su\" + postfix)\n",
    "draw_network(G, pos=pos_fr, node_colors=node_colors, pdf_name=\"graph_fr\" + postfix)"
   ]
  },
  {
   "cell_type": "markdown",
   "metadata": {
    "collapsed": false,
    "papermill": {
     "duration": 74.788729,
     "end_time": "2020-02-07T17:01:16.172451",
     "exception": false,
     "start_time": "2020-02-07T17:00:01.383722",
     "status": "completed"
    },
    "pycharm": {
     "name": "#%% md\n"
    },
    "tags": []
   },
   "source": [
    "Removing nodes labeled as noise by HDBSCAN:"
   ]
  },
  {
   "cell_type": "code",
   "execution_count": null,
   "outputs": [],
   "source": [
    "G.remove_nodes_from([node_list[i] for i in range(len(node_list)) if clusters[i] == -1])\n",
    "node_colors = [cmap[cluster] for cluster in clusters if cluster != -1]\n",
    "\n",
    "draw_network(G, pos=pos_su, node_colors=node_colors, pdf_name=\"graph_su_clean\" + postfix)\n",
    "draw_network(G, pos=pos_fr, node_colors=node_colors, pdf_name=\"graph_fr_clean\" + postfix)"
   ],
   "metadata": {
    "collapsed": false,
    "pycharm": {
     "name": "#%%\n"
    }
   }
  }
 ],
 "metadata": {
  "kernelspec": {
   "display_name": "Python 3",
   "language": "python",
   "name": "python3"
  },
  "language_info": {
   "codemirror_mode": {
    "name": "ipython",
    "version": 3
   },
   "file_extension": ".py",
   "mimetype": "text/x-python",
   "name": "python",
   "nbconvert_exporter": "python",
   "pygments_lexer": "ipython3",
   "version": "3.7.0"
  },
  "papermill": {
   "duration": 27520.102217,
   "end_time": "2020-02-07T17:01:19.021337",
   "environment_variables": {},
   "exception": null,
   "input_path": "test3.ipynb",
   "output_path": "test3.ipynb",
   "parameters": {},
   "start_time": "2020-02-07T09:22:38.919120",
   "version": "1.2.1"
  },
  "pycharm": {
   "stem_cell": {
    "cell_type": "raw",
    "source": [],
    "metadata": {
     "collapsed": false
    }
   }
  }
 },
 "nbformat": 4,
 "nbformat_minor": 0
}