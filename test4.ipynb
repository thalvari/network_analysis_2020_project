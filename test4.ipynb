{
 "cells": [
  {
   "cell_type": "code",
   "execution_count": null,
   "metadata": {
    "hide_input": true,
    "inputHidden": true
   },
   "outputs": [
    {
     "data": {
      "text/html": [
       "<span style=\"color:red; font-family:Helvetica Neue, Helvetica, Arial, sans-serif; font-size:2em;\">An Exception was encountered at 'In [4]'.</span>"
      ]
     },
     "metadata": {},
     "output_type": "display_data"
    }
   ],
   "source": [
    "%%html\n",
    "<span style=\"color:red; font-family:Helvetica Neue, Helvetica, Arial, sans-serif; font-size:2em;\">An Exception was encountered at 'In [4]'.</span>"
   ]
  },
  {
   "cell_type": "markdown",
   "metadata": {
    "collapsed": false,
    "papermill": {
     "duration": 0.019686,
     "end_time": "2020-02-06T23:20:55.658153",
     "exception": false,
     "start_time": "2020-02-06T23:20:55.638467",
     "status": "completed"
    },
    "pycharm": {
     "name": "#%% md\n"
    },
    "tags": []
   },
   "source": [
    "# Clustering networks"
   ]
  },
  {
   "cell_type": "code",
   "execution_count": 1,
   "metadata": {
    "collapsed": false,
    "papermill": {
     "duration": 7.19613,
     "end_time": "2020-02-06T23:21:02.864715",
     "exception": false,
     "start_time": "2020-02-06T23:20:55.668585",
     "status": "completed"
    },
    "pycharm": {
     "is_executing": false,
     "name": "#%%\n"
    },
    "tags": []
   },
   "outputs": [],
   "source": [
    "import pickle\n",
    "import warnings\n",
    "warnings.filterwarnings('ignore')\n",
    "from matplotlib.axes._axes import _log\n",
    "_log.setLevel('ERROR')\n",
    "\n",
    "import matplotlib.pyplot as plt\n",
    "import networkx as nx\n",
    "import numpy as np\n",
    "import random as rn\n",
    "from collections import Counter\n",
    "from hdbscan import HDBSCAN\n",
    "from matplotlib.cm import get_cmap\n",
    "from sklearn.manifold import spectral_embedding\n",
    "from umap import UMAP\n",
    "\n",
    "%matplotlib inline\n",
    "\n",
    "seed = 42\n",
    "rn.seed(seed)\n",
    "np.random.seed(seed)\n",
    "random_state = np.random.RandomState(seed)"
   ]
  },
  {
   "cell_type": "markdown",
   "metadata": {
    "collapsed": false,
    "papermill": {
     "duration": 0.013177,
     "end_time": "2020-02-06T23:21:02.900745",
     "exception": false,
     "start_time": "2020-02-06T23:21:02.887568",
     "status": "completed"
    },
    "pycharm": {
     "name": "#%% md\n"
    },
    "tags": []
   },
   "source": [
    "Defining the network:"
   ]
  },
  {
   "cell_type": "code",
   "execution_count": 2,
   "metadata": {
    "collapsed": false,
    "papermill": {
     "duration": 8.811793,
     "end_time": "2020-02-06T23:21:11.723648",
     "exception": false,
     "start_time": "2020-02-06T23:21:02.911855",
     "status": "completed"
    },
    "pycharm": {
     "is_executing": false,
     "name": "#%%\n"
    },
    "tags": []
   },
   "outputs": [
    {
     "name": "stdout",
     "output_type": "stream",
     "text": [
      "largest connected components: [77744, 121, 100, 76, 51]\n"
     ]
    }
   ],
   "source": [
    "# G_ = nx.read_edgelist(\"data/air_traffic.edgelist\")\n",
    "# G_ = nx.read_edgelist(\"data/academic_collaboration.edgelist\")\n",
    "# G_ = nx.dorogovtsev_goltsev_mendes_graph(7)\n",
    "with open(\"data/imdb.p\", \"rb\") as f:\n",
    "    G_ = nx.Graph()\n",
    "    G_.add_edges_from(pickle.load(f))\n",
    "\n",
    "print(f\"largest connected components: \"\n",
    "      f\"{[len(cc) for cc in sorted(nx.connected_components(G_), key=len, reverse=True)[:5]]}\")\n",
    "\n",
    "n_largest_cc = 1\n",
    "G = G_.subgraph(set.union(*sorted(nx.connected_components(G_), key=len, reverse=True)[:n_largest_cc])).copy()\n",
    "G_.clear()"
   ]
  },
  {
   "cell_type": "markdown",
   "metadata": {
    "collapsed": false,
    "papermill": {
     "duration": 0.009762,
     "end_time": "2020-02-06T23:21:11.749441",
     "exception": false,
     "start_time": "2020-02-06T23:21:11.739679",
     "status": "completed"
    },
    "pycharm": {
     "name": "#%% md\n"
    },
    "tags": []
   },
   "source": [
    "Reducing dimensions with Spectral Embedding and UMAP and clustering with HDBSCAN:"
   ]
  },
  {
   "cell_type": "code",
   "execution_count": 3,
   "metadata": {
    "collapsed": false,
    "papermill": {
     "duration": 27160.049221,
     "end_time": "2020-02-07T06:53:51.806936",
     "exception": false,
     "start_time": "2020-02-06T23:21:11.757715",
     "status": "completed"
    },
    "pycharm": {
     "is_executing": false,
     "name": "#%%\n"
    },
    "tags": []
   },
   "outputs": [
    {
     "name": "stdout",
     "output_type": "stream",
     "text": [
      "nodes: 77744\n",
      "clusters: 22\n",
      "cluster sizes: [(-1, 28718), (21, 8041), (18, 7161), (19, 4424), (13, 2669), (5, 2478), (9, 2222), (0, 2143), (8, 1965), (15, 1924), (7, 1912), (17, 1812), (11, 1740), (4, 1357), (12, 1258), (16, 1254), (1, 1195), (3, 1047), (10, 988), (20, 944), (14, 846), (2, 838), (6, 808)]\n",
      "noise level: 0.369\n"
     ]
    }
   ],
   "source": [
    "adj_matrix = nx.to_numpy_array(G)\n",
    "node_list = list(G.nodes())\n",
    "\n",
    "embedding = spectral_embedding(adj_matrix, n_components=800, drop_first=False, random_state=random_state)\n",
    "embedding = UMAP(n_components=2, n_neighbors=30, min_dist=0.0, random_state=random_state).fit_transform(embedding)\n",
    "clusters = HDBSCAN(min_samples=1200, min_cluster_size=800, core_dist_n_jobs=-1).fit_predict(embedding)\n",
    "\n",
    "print(f\"nodes: {len(node_list)}\")\n",
    "counter = Counter(clusters)\n",
    "print(f\"clusters: {len(counter) - 1}\")\n",
    "print(f\"cluster sizes: {sorted(counter.items(), key=lambda x: x[1], reverse=True)}\")\n",
    "print(f\"noise level: {np.round(counter[-1] / len(clusters), 3)}\")"
   ]
  },
  {
   "cell_type": "code",
   "execution_count": 4,
   "metadata": {
    "collapsed": false,
    "papermill": {
     "duration": 1.061213,
     "end_time": "2020-02-07T06:53:52.887190",
     "exception": true,
     "start_time": "2020-02-07T06:53:51.825977",
     "status": "failed"
    },
    "pycharm": {
     "name": "#%%\n"
    },
    "tags": []
   },
   "outputs": [
    {
     "ename": "IndexError",
     "evalue": "list index out of range",
     "output_type": "error",
     "traceback": [
      "\u001b[0;31m---------------------------------------------------------------------------\u001b[0m",
      "\u001b[0;31mIndexError\u001b[0m                                Traceback (most recent call last)",
      "\u001b[0;32m<ipython-input-4-2f538919b8c6>\u001b[0m in \u001b[0;36m<module>\u001b[0;34m\u001b[0m\n\u001b[1;32m      1\u001b[0m \u001b[0mcmap\u001b[0m \u001b[0;34m=\u001b[0m \u001b[0mget_cmap\u001b[0m\u001b[0;34m(\u001b[0m\u001b[0;34m\"tab20\"\u001b[0m\u001b[0;34m)\u001b[0m\u001b[0;34m.\u001b[0m\u001b[0mcolors\u001b[0m\u001b[0;34m\u001b[0m\u001b[0m\n\u001b[1;32m      2\u001b[0m \u001b[0mcmap\u001b[0m \u001b[0;34m=\u001b[0m \u001b[0;34m[\u001b[0m\u001b[0mcmap\u001b[0m\u001b[0;34m[\u001b[0m\u001b[0mi\u001b[0m\u001b[0;34m]\u001b[0m \u001b[0;32mfor\u001b[0m \u001b[0mi\u001b[0m \u001b[0;32min\u001b[0m \u001b[0mrange\u001b[0m\u001b[0;34m(\u001b[0m\u001b[0mlen\u001b[0m\u001b[0;34m(\u001b[0m\u001b[0mcmap\u001b[0m\u001b[0;34m)\u001b[0m\u001b[0;34m)\u001b[0m \u001b[0;32mif\u001b[0m \u001b[0mi\u001b[0m \u001b[0;34m%\u001b[0m \u001b[0;36m2\u001b[0m \u001b[0;34m==\u001b[0m \u001b[0;36m0\u001b[0m\u001b[0;34m]\u001b[0m \u001b[0;34m+\u001b[0m \u001b[0;34m[\u001b[0m\u001b[0mcmap\u001b[0m\u001b[0;34m[\u001b[0m\u001b[0mi\u001b[0m\u001b[0;34m]\u001b[0m \u001b[0;32mfor\u001b[0m \u001b[0mi\u001b[0m \u001b[0;32min\u001b[0m \u001b[0mrange\u001b[0m\u001b[0;34m(\u001b[0m\u001b[0mlen\u001b[0m\u001b[0;34m(\u001b[0m\u001b[0mcmap\u001b[0m\u001b[0;34m)\u001b[0m\u001b[0;34m)\u001b[0m \u001b[0;32mif\u001b[0m \u001b[0mi\u001b[0m \u001b[0;34m%\u001b[0m \u001b[0;36m2\u001b[0m \u001b[0;34m==\u001b[0m \u001b[0;36m1\u001b[0m\u001b[0;34m]\u001b[0m\u001b[0;34m\u001b[0m\u001b[0m\n\u001b[0;32m----> 3\u001b[0;31m \u001b[0mnode_colors\u001b[0m \u001b[0;34m=\u001b[0m \u001b[0;34m[\u001b[0m\u001b[0mcmap\u001b[0m\u001b[0;34m[\u001b[0m\u001b[0mcluster\u001b[0m\u001b[0;34m]\u001b[0m \u001b[0;32mfor\u001b[0m \u001b[0mcluster\u001b[0m \u001b[0;32min\u001b[0m \u001b[0mclusters\u001b[0m\u001b[0;34m]\u001b[0m\u001b[0;34m\u001b[0m\u001b[0m\n\u001b[0m\u001b[1;32m      4\u001b[0m \u001b[0;34m\u001b[0m\u001b[0m\n\u001b[1;32m      5\u001b[0m \u001b[0mpos_fr\u001b[0m \u001b[0;34m=\u001b[0m \u001b[0mnx\u001b[0m\u001b[0;34m.\u001b[0m\u001b[0mfruchterman_reingold_layout\u001b[0m\u001b[0;34m(\u001b[0m\u001b[0mG\u001b[0m\u001b[0;34m,\u001b[0m \u001b[0mseed\u001b[0m\u001b[0;34m=\u001b[0m\u001b[0mseed\u001b[0m\u001b[0;34m)\u001b[0m\u001b[0;34m\u001b[0m\u001b[0m\n",
      "\u001b[0;32m<ipython-input-4-2f538919b8c6>\u001b[0m in \u001b[0;36m<listcomp>\u001b[0;34m(.0)\u001b[0m\n\u001b[1;32m      1\u001b[0m \u001b[0mcmap\u001b[0m \u001b[0;34m=\u001b[0m \u001b[0mget_cmap\u001b[0m\u001b[0;34m(\u001b[0m\u001b[0;34m\"tab20\"\u001b[0m\u001b[0;34m)\u001b[0m\u001b[0;34m.\u001b[0m\u001b[0mcolors\u001b[0m\u001b[0;34m\u001b[0m\u001b[0m\n\u001b[1;32m      2\u001b[0m \u001b[0mcmap\u001b[0m \u001b[0;34m=\u001b[0m \u001b[0;34m[\u001b[0m\u001b[0mcmap\u001b[0m\u001b[0;34m[\u001b[0m\u001b[0mi\u001b[0m\u001b[0;34m]\u001b[0m \u001b[0;32mfor\u001b[0m \u001b[0mi\u001b[0m \u001b[0;32min\u001b[0m \u001b[0mrange\u001b[0m\u001b[0;34m(\u001b[0m\u001b[0mlen\u001b[0m\u001b[0;34m(\u001b[0m\u001b[0mcmap\u001b[0m\u001b[0;34m)\u001b[0m\u001b[0;34m)\u001b[0m \u001b[0;32mif\u001b[0m \u001b[0mi\u001b[0m \u001b[0;34m%\u001b[0m \u001b[0;36m2\u001b[0m \u001b[0;34m==\u001b[0m \u001b[0;36m0\u001b[0m\u001b[0;34m]\u001b[0m \u001b[0;34m+\u001b[0m \u001b[0;34m[\u001b[0m\u001b[0mcmap\u001b[0m\u001b[0;34m[\u001b[0m\u001b[0mi\u001b[0m\u001b[0;34m]\u001b[0m \u001b[0;32mfor\u001b[0m \u001b[0mi\u001b[0m \u001b[0;32min\u001b[0m \u001b[0mrange\u001b[0m\u001b[0;34m(\u001b[0m\u001b[0mlen\u001b[0m\u001b[0;34m(\u001b[0m\u001b[0mcmap\u001b[0m\u001b[0;34m)\u001b[0m\u001b[0;34m)\u001b[0m \u001b[0;32mif\u001b[0m \u001b[0mi\u001b[0m \u001b[0;34m%\u001b[0m \u001b[0;36m2\u001b[0m \u001b[0;34m==\u001b[0m \u001b[0;36m1\u001b[0m\u001b[0;34m]\u001b[0m\u001b[0;34m\u001b[0m\u001b[0m\n\u001b[0;32m----> 3\u001b[0;31m \u001b[0mnode_colors\u001b[0m \u001b[0;34m=\u001b[0m \u001b[0;34m[\u001b[0m\u001b[0mcmap\u001b[0m\u001b[0;34m[\u001b[0m\u001b[0mcluster\u001b[0m\u001b[0;34m]\u001b[0m \u001b[0;32mfor\u001b[0m \u001b[0mcluster\u001b[0m \u001b[0;32min\u001b[0m \u001b[0mclusters\u001b[0m\u001b[0;34m]\u001b[0m\u001b[0;34m\u001b[0m\u001b[0m\n\u001b[0m\u001b[1;32m      4\u001b[0m \u001b[0;34m\u001b[0m\u001b[0m\n\u001b[1;32m      5\u001b[0m \u001b[0mpos_fr\u001b[0m \u001b[0;34m=\u001b[0m \u001b[0mnx\u001b[0m\u001b[0;34m.\u001b[0m\u001b[0mfruchterman_reingold_layout\u001b[0m\u001b[0;34m(\u001b[0m\u001b[0mG\u001b[0m\u001b[0;34m,\u001b[0m \u001b[0mseed\u001b[0m\u001b[0;34m=\u001b[0m\u001b[0mseed\u001b[0m\u001b[0;34m)\u001b[0m\u001b[0;34m\u001b[0m\u001b[0m\n",
      "\u001b[0;31mIndexError\u001b[0m: list index out of range"
     ]
    }
   ],
   "source": [
    "cmap = get_cmap(\"tab20\").colors\n",
    "cmap = [cmap[i] for i in range(len(cmap)) if i % 2 == 0] + [cmap[i] for i in range(len(cmap)) if i % 2 == 1]\n",
    "node_colors = [cmap[cluster] for cluster in clusters]\n",
    "\n",
    "pos_fr = nx.fruchterman_reingold_layout(G, seed=seed)\n",
    "pos_su = {node_list[i]: embedding[i] for i in range(len(node_list))}\n",
    "\n",
    "def draw_network(G, pos, node_colors, pdf_name, edge_width=.1, font_size=1):\n",
    "    # degrees = [x[1] for x in nx.degree(G)]\n",
    "    # node_sizes = [50 * x / max(degrees) + 1 for x in degrees]\n",
    "    nx.draw_networkx_nodes(G, pos=pos, node_size=1, node_color=node_colors)\n",
    "    nx.draw_networkx_edges(G, pos=pos, width=edge_width)\n",
    "    # nx.draw_networkx_labels(G, pos=pos, font_size=font_size)\n",
    "    plt.savefig(f\"results/{pdf_name}.pdf\")\n",
    "    plt.show()\n",
    "\n",
    "draw_network(G, pos=pos_su, node_colors=node_colors, pdf_name=\"graph_su_4\")\n",
    "draw_network(G, pos=pos_fr, node_colors=node_colors, pdf_name=\"graph_fr_4\")"
   ]
  },
  {
   "cell_type": "markdown",
   "metadata": {
    "collapsed": false,
    "papermill": {
     "duration": null,
     "end_time": null,
     "exception": null,
     "start_time": null,
     "status": "pending"
    },
    "pycharm": {
     "is_executing": false,
     "name": "#%% md\n"
    },
    "tags": []
   },
   "source": [
    "Removing nodes labeled as noise by HDBSCAN:"
   ]
  },
  {
   "cell_type": "code",
   "execution_count": null,
   "metadata": {
    "collapsed": false,
    "papermill": {
     "duration": null,
     "end_time": null,
     "exception": null,
     "start_time": null,
     "status": "pending"
    },
    "pycharm": {
     "name": "#%%\n"
    },
    "tags": []
   },
   "outputs": [],
   "source": [
    "G.remove_nodes_from([node_list[i] for i in range(len(node_list)) if clusters[i] == -1])\n",
    "node_colors = [cmap[cluster] for cluster in clusters if cluster != -1]"
   ]
  },
  {
   "cell_type": "code",
   "execution_count": null,
   "metadata": {
    "collapsed": false,
    "papermill": {
     "duration": null,
     "end_time": null,
     "exception": null,
     "start_time": null,
     "status": "pending"
    },
    "pycharm": {
     "name": "#%%\n"
    },
    "tags": []
   },
   "outputs": [],
   "source": [
    "draw_network(G, pos=pos_su, node_colors=node_colors, pdf_name=\"graph_su_clean_4\")\n",
    "draw_network(G, pos=pos_fr, node_colors=node_colors, pdf_name=\"graph_fr_clean_4\")"
   ]
  }
 ],
 "metadata": {
  "kernelspec": {
   "display_name": "Python 3",
   "language": "python",
   "name": "python3"
  },
  "language_info": {
   "codemirror_mode": {
    "name": "ipython",
    "version": 3
   },
   "file_extension": ".py",
   "mimetype": "text/x-python",
   "name": "python",
   "nbconvert_exporter": "python",
   "pygments_lexer": "ipython3",
   "version": "3.7.0"
  },
  "papermill": {
   "duration": 27182.359117,
   "end_time": "2020-02-07T06:53:55.102318",
   "environment_variables": {},
   "exception": true,
   "input_path": "test4.ipynb",
   "output_path": "test4.ipynb",
   "parameters": {},
   "start_time": "2020-02-06T23:20:52.743201",
   "version": "1.2.1"
  },
  "pycharm": {
   "stem_cell": {
    "cell_type": "raw",
    "metadata": {
     "collapsed": false
    },
    "source": []
   }
  }
 },
 "nbformat": 4,
 "nbformat_minor": 0
}