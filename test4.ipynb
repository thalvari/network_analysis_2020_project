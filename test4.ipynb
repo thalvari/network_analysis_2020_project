{
 "cells": [
  {
   "cell_type": "markdown",
   "metadata": {
    "hide_input": true,
    "inputHidden": true,
    "papermill": {
     "duration": 0.043886,
     "end_time": "2020-02-07T09:34:18.995824",
     "exception": false,
     "start_time": "2020-02-07T09:34:18.951938",
     "status": "completed"
    },
    "tags": [],
    "pycharm": {
     "name": "#%% md\n"
    }
   },
   "source": [
    "# Clustering networks"
   ]
  },
  {
   "cell_type": "code",
   "metadata": {
    "collapsed": false,
    "papermill": {
     "duration": 0.006667,
     "end_time": "2020-02-07T09:34:19.009731",
     "exception": false,
     "start_time": "2020-02-07T09:34:19.003064",
     "status": "completed"
    },
    "pycharm": {
     "name": "#%%\n"
    },
    "tags": []
   },
   "source": [
    "import pickle\n",
    "import warnings\n",
    "warnings.filterwarnings('ignore')\n",
    "from matplotlib.axes._axes import _log\n",
    "_log.setLevel('ERROR')\n",
    "\n",
    "import matplotlib.pyplot as plt\n",
    "import networkx as nx\n",
    "import numpy as np\n",
    "from collections import Counter\n",
    "from hdbscan import HDBSCAN\n",
    "from matplotlib.cm import get_cmap\n",
    "from sklearn.manifold import spectral_embedding\n",
    "from umap import UMAP\n",
    "\n",
    "%matplotlib inline\n",
    "\n",
    "seed = 42"
   ],
   "execution_count": null,
   "outputs": []
  },
  {
   "cell_type": "markdown",
   "metadata": {
    "collapsed": false,
    "papermill": {
     "duration": 6.037533,
     "end_time": "2020-02-07T09:34:25.054169",
     "exception": false,
     "start_time": "2020-02-07T09:34:19.016636",
     "status": "completed"
    },
    "pycharm": {
     "is_executing": false,
     "name": "#%% md\n"
    },
    "tags": []
   },
   "source": [
    "Defining the network:"
   ]
  },
  {
   "cell_type": "code",
   "metadata": {
    "collapsed": false,
    "papermill": {
     "duration": 0.008207,
     "end_time": "2020-02-07T09:34:25.078018",
     "exception": false,
     "start_time": "2020-02-07T09:34:25.069811",
     "status": "completed"
    },
    "pycharm": {
     "name": "#%%\n"
    },
    "tags": []
   },
   "source": [
    "np.random.seed(seed)\n",
    "\n",
    "with open(\"data/imdb.p\", \"rb\") as f:\n",
    "    G = nx.Graph()\n",
    "    G.add_edges_from(pickle.load(f))\n",
    "\n",
    "G.remove_nodes_from(set(nx.nodes(G)) - max(nx.connected_components(G), key=len))"
   ],
   "execution_count": null,
   "outputs": []
  },
  {
   "cell_type": "markdown",
   "metadata": {
    "collapsed": false,
    "papermill": {
     "duration": 9.30683,
     "end_time": "2020-02-07T09:34:34.391895",
     "exception": false,
     "start_time": "2020-02-07T09:34:25.085065",
     "status": "completed"
    },
    "pycharm": {
     "is_executing": false,
     "name": "#%% md\n"
    },
    "tags": []
   },
   "source": [
    "Reducing dimensions with Spectral Embedding and UMAP and clustering with HDBSCAN:"
   ]
  },
  {
   "cell_type": "code",
   "metadata": {
    "collapsed": false,
    "papermill": {
     "duration": 0.017401,
     "end_time": "2020-02-07T09:34:34.426138",
     "exception": false,
     "start_time": "2020-02-07T09:34:34.408737",
     "status": "completed"
    },
    "pycharm": {
     "name": "#%%\n"
    },
    "tags": []
   },
   "source": [
    "np.random.seed(seed)\n",
    "\n",
    "adj_matrix = nx.to_numpy_array(G)\n",
    "node_list = list(G.nodes())\n",
    "\n",
    "embedding = spectral_embedding(adj_matrix, n_components=800, drop_first=False, random_state=np.random.RandomState(seed))\n",
    "embedding = UMAP(\n",
    "    n_components=2, n_neighbors=30, min_dist=0.0, random_state=np.random.RandomState(seed)\n",
    ").fit_transform(embedding)\n",
    "clusters = HDBSCAN(min_samples=500, min_cluster_size=500, core_dist_n_jobs=-1).fit_predict(embedding)\n",
    "\n",
    "print(f\"nodes: {len(node_list)}\")\n",
    "counter = Counter(clusters)\n",
    "print(f\"clusters: {len(counter) - 1}\")\n",
    "print(f\"cluster sizes: {sorted(counter.items(), key=lambda x: x[1], reverse=True)}\")\n",
    "print(f\"noise level: {np.round(counter[-1] / len(clusters), 3)}\")"
   ],
   "execution_count": null,
   "outputs": []
  },
  {
   "cell_type": "code",
   "execution_count": 4,
   "metadata": {
    "collapsed": false,
    "papermill": {
     "duration": 27229.429662,
     "end_time": "2020-02-07T17:08:23.864959",
     "exception": false,
     "start_time": "2020-02-07T09:34:34.435297",
     "status": "completed"
    },
    "pycharm": {
     "is_executing": false,
     "name": "#%%\n"
    },
    "tags": []
   },
   "outputs": [
    {
     "name": "stdout",
     "output_type": "stream",
     "text": [
      "nodes: 77744\n",
      "clusters: 15\n",
      "cluster sizes: [(-1, 34731), (14, 9498), (12, 6711), (13, 3544), (2, 3347), (3, 2927), (8, 2691), (5, 2482), (9, 2478), (7, 1761), (11, 1732), (4, 1652), (0, 1255), (1, 1195), (6, 938), (10, 802)]\n",
      "noise level: 0.447\n"
     ]
    }
   ],
   "source": [
    "np.random.seed(seed)\n",
    "\n",
    "cmap = get_cmap(\"tab20\").colors\n",
    "cmap = [cmap[i] for i in range(len(cmap)) if i % 2 == 0] + [cmap[i] for i in range(len(cmap)) if i % 2 == 1]\n",
    "node_colors = [cmap[cluster] for cluster in clusters]\n",
    "\n",
    "pos_su = {node_list[i]: embedding[i] for i in range(len(node_list))}\n",
    "# pos_fr = nx.fruchterman_reingold_layout(G, seed=seed)\n",
    "\n",
    "def draw_network(G, pos, node_colors, pdf_name, edge_width=.1, font_size=1):\n",
    "    # degrees = [x[1] for x in nx.degree(G)]\n",
    "    # node_sizes = [50 * x / max(degrees) + 1 for x in degrees]\n",
    "    nx.draw_networkx_nodes(G, pos=pos, node_size=1, node_color=node_colors)\n",
    "    nx.draw_networkx_edges(G, pos=pos, width=edge_width)\n",
    "    # nx.draw_networkx_labels(G, pos=pos, font_size=font_size)\n",
    "    plt.savefig(f\"results/{pdf_name}.pdf\")\n",
    "    plt.show()\n",
    "\n",
    "draw_network(G, pos=pos_su, node_colors=node_colors, pdf_name=\"graph_su_1\")\n",
    "# draw_network(G, pos=pos_fr, node_colors=node_colors, pdf_name=\"graph_fr_1\")"
   ]
  },
  {
   "cell_type": "markdown",
   "metadata": {
    "collapsed": false,
    "papermill": {
     "duration": 9263.900881,
     "end_time": "2020-02-07T19:42:47.779681",
     "exception": false,
     "start_time": "2020-02-07T17:08:23.878800",
     "status": "completed"
    },
    "pycharm": {
     "name": "#%% md\n"
    },
    "tags": []
   },
   "source": [
    "Removing nodes labeled as noise by HDBSCAN:"
   ]
  },
  {
   "cell_type": "code",
   "metadata": {
    "collapsed": false,
    "papermill": {
     "duration": 0.012444,
     "end_time": "2020-02-07T19:42:47.812083",
     "exception": false,
     "start_time": "2020-02-07T19:42:47.799639",
     "status": "completed"
    },
    "pycharm": {
     "is_executing": false,
     "name": "#%%\n"
    },
    "tags": []
   },
   "source": [
    "G.remove_nodes_from([node_list[i] for i in range(len(node_list)) if clusters[i] == -1])\n",
    "node_colors = [cmap[cluster] for cluster in clusters if cluster != -1]"
   ],
   "execution_count": null,
   "outputs": []
  },
  {
   "cell_type": "code",
   "execution_count": 6,
   "metadata": {
    "collapsed": false,
    "papermill": {
     "duration": 0.396802,
     "end_time": "2020-02-07T19:42:48.221228",
     "exception": false,
     "start_time": "2020-02-07T19:42:47.824426",
     "status": "completed"
    },
    "pycharm": {
     "name": "#%%\n"
    },
    "tags": []
   },
   "outputs": [],
   "source": [
    "draw_network(G, pos=pos_su, node_colors=node_colors, pdf_name=\"graph_su_clean_1\")\n",
    "# draw_network(G, pos=pos_fr, node_colors=node_colors, pdf_name=\"graph_fr_clean_1\")"
   ]
  }
 ],
 "metadata": {
  "kernelspec": {
   "display_name": "Python 3",
   "language": "python",
   "name": "python3"
  },
  "language_info": {
   "codemirror_mode": {
    "name": "ipython",
    "version": 3
   },
   "file_extension": ".py",
   "mimetype": "text/x-python",
   "name": "python",
   "nbconvert_exporter": "python",
   "pygments_lexer": "ipython3",
   "version": "3.7.0"
  },
  "papermill": {
   "duration": 36603.044363,
   "end_time": "2020-02-07T19:44:19.757678",
   "environment_variables": {},
   "exception": null,
   "input_path": "test4.ipynb",
   "output_path": "test4.ipynb",
   "parameters": {},
   "start_time": "2020-02-07T09:34:16.713315",
   "version": "1.2.1"
  },
  "pycharm": {
   "stem_cell": {
    "cell_type": "raw",
    "source": [],
    "metadata": {
     "collapsed": false
    }
   }
  }
 },
 "nbformat": 4,
 "nbformat_minor": 0
}