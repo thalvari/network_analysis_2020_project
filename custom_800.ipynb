{
 "cells": [
  {
   "cell_type": "markdown",
   "metadata": {
    "collapsed": true,
    "papermill": {
     "duration": 0.030488,
     "end_time": "2020-02-22T19:08:10.252884",
     "exception": false,
     "start_time": "2020-02-22T19:08:10.222396",
     "status": "completed"
    },
    "pycharm": {
     "name": "#%% md\n"
    },
    "tags": []
   },
   "source": [
    "# Clustering IMDB movie actors"
   ]
  },
  {
   "cell_type": "markdown",
   "metadata": {
    "collapsed": false,
    "papermill": {
     "duration": 0.010348,
     "end_time": "2020-02-22T19:08:10.276276",
     "exception": false,
     "start_time": "2020-02-22T19:08:10.265928",
     "status": "completed"
    },
    "pycharm": {
     "name": "#%% md\n"
    },
    "tags": []
   },
   "source": [
    "Defining notebook params:"
   ]
  },
  {
   "cell_type": "code",
   "execution_count": 1,
   "metadata": {
    "collapsed": false,
    "papermill": {
     "duration": 0.022004,
     "end_time": "2020-02-22T19:08:10.308003",
     "exception": false,
     "start_time": "2020-02-22T19:08:10.285999",
     "status": "completed"
    },
    "pycharm": {
     "is_executing": false,
     "name": "#%%\n"
    },
    "tags": []
   },
   "outputs": [],
   "source": [
    "seed = 42\n",
    "\n",
    "n_spectral_components = 800\n",
    "\n",
    "# n_clusters = 25\n",
    "min_cluster_size = 150\n",
    "min_samples = 10\n",
    "\n",
    "pdf_postfix = \"_custom_800\""
   ]
  },
  {
   "cell_type": "markdown",
   "metadata": {
    "collapsed": false,
    "papermill": {
     "duration": 0.05049,
     "end_time": "2020-02-22T19:08:10.372005",
     "exception": false,
     "start_time": "2020-02-22T19:08:10.321515",
     "status": "completed"
    },
    "pycharm": {
     "name": "#%% md\n"
    },
    "tags": []
   },
   "source": [
    "Import stuff and ignore warnings:"
   ]
  },
  {
   "cell_type": "code",
   "execution_count": 2,
   "metadata": {
    "collapsed": false,
    "papermill": {
     "duration": 9.138671,
     "end_time": "2020-02-22T19:08:19.531150",
     "exception": false,
     "start_time": "2020-02-22T19:08:10.392479",
     "status": "completed"
    },
    "pycharm": {
     "is_executing": false,
     "name": "#%%\n"
    },
    "tags": []
   },
   "outputs": [],
   "source": [
    "import itertools\n",
    "import pickle\n",
    "import warnings\n",
    "warnings.filterwarnings(\"ignore\")\n",
    "\n",
    "import matplotlib.pyplot as plt\n",
    "import networkx as nx\n",
    "import numpy as np\n",
    "import pandas as pd\n",
    "from IPython.core.display import display, HTML\n",
    "from collections import Counter\n",
    "from hdbscan import HDBSCAN\n",
    "from matplotlib.axes._axes import _log\n",
    "_log.setLevel(\"ERROR\")\n",
    "from matplotlib.patches import Patch\n",
    "from networkx.algorithms.community import girvan_newman\n",
    "from sklearn.cluster import SpectralClustering\n",
    "from sklearn.manifold import spectral_embedding\n",
    "from sklearn.metrics import adjusted_mutual_info_score, adjusted_rand_score, fowlkes_mallows_score, silhouette_score, v_measure_score\n",
    "from umap import UMAP\n",
    "\n",
    "%matplotlib inline"
   ]
  },
  {
   "cell_type": "markdown",
   "metadata": {
    "collapsed": false,
    "papermill": {
     "duration": 0.019986,
     "end_time": "2020-02-22T19:08:19.578098",
     "exception": false,
     "start_time": "2020-02-22T19:08:19.558112",
     "status": "completed"
    },
    "pycharm": {
     "name": "#%% md\n"
    },
    "tags": []
   },
   "source": [
    "Loading the network and taking the largest connected component:"
   ]
  },
  {
   "cell_type": "code",
   "execution_count": 3,
   "metadata": {
    "collapsed": false,
    "papermill": {
     "duration": 2.122193,
     "end_time": "2020-02-22T19:08:21.712235",
     "exception": false,
     "start_time": "2020-02-22T19:08:19.590042",
     "status": "completed"
    },
    "pycharm": {
     "is_executing": false,
     "name": "#%%\n"
    },
    "tags": []
   },
   "outputs": [
    {
     "name": "stdout",
     "output_type": "stream",
     "text": [
      "nodes: 13406\n",
      "edges: 390859\n"
     ]
    }
   ],
   "source": [
    "np.random.seed(seed)\n",
    "\n",
    "with open(\"data/edges.pkl\", \"rb\") as f:\n",
    "    G = nx.Graph()\n",
    "    G.add_edges_from(pickle.load(f))\n",
    "G.remove_nodes_from(set(nx.nodes(G)) - max(nx.connected_components(G), key=len))\n",
    "\n",
    "adj_matrix = nx.to_numpy_array(G)\n",
    "node_list = list(G.nodes())\n",
    "path_lengths = dict(nx.all_pairs_shortest_path_length(G))\n",
    "\n",
    "print(f\"nodes: {len(node_list)}\")\n",
    "print(f\"edges: {len(G.edges())}\")"
   ]
  },
  {
   "cell_type": "markdown",
   "metadata": {
    "collapsed": false,
    "papermill": {
     "duration": 0.013429,
     "end_time": "2020-02-22T19:08:21.750228",
     "exception": false,
     "start_time": "2020-02-22T19:08:21.736799",
     "status": "completed"
    },
    "pycharm": {
     "name": "#%% md\n"
    },
    "tags": []
   },
   "source": [
    "Using Spectral Embedding, reducing dimensions with UMAP and clustering with HDBSCAN:"
   ]
  },
  {
   "cell_type": "code",
   "execution_count": 4,
   "metadata": {
    "collapsed": false,
    "papermill": {
     "duration": 571.801891,
     "end_time": "2020-02-22T19:17:53.562350",
     "exception": false,
     "start_time": "2020-02-22T19:08:21.760459",
     "status": "completed"
    },
    "pycharm": {
     "is_executing": false,
     "name": "#%%\n"
    },
    "tags": []
   },
   "outputs": [
    {
     "name": "stdout",
     "output_type": "stream",
     "text": [
      "clusters: 17\n",
      "cluster sizes: [(14, 5966), (8, 906), (13, 824), (6, 724), (2, 634), (15, 568), (12, 495), (-1, 459), (16, 410), (4, 410), (9, 375), (7, 368), (10, 325), (5, 297), (0, 177), (11, 164), (1, 153), (3, 151)]\n",
      "noise level: 0.034\n"
     ]
    }
   ],
   "source": [
    "np.random.seed(seed)\n",
    "random_state = np.random.RandomState(seed)\n",
    "\n",
    "embedding = spectral_embedding(\n",
    "    adj_matrix, n_components=n_spectral_components, drop_first=False, random_state=random_state\n",
    ")\n",
    "embedding = UMAP(\n",
    "    n_components=2, n_neighbors=30, min_dist=0.0, random_state=random_state\n",
    ").fit_transform(embedding)"
   ]
  },
  {
   "cell_type": "code",
   "metadata": {
    "collapsed": false,
    "papermill": {
     "duration": 0.010533,
     "end_time": "2020-02-22T19:17:53.586476",
     "exception": false,
     "start_time": "2020-02-22T19:17:53.575943",
     "status": "completed"
    },
    "pycharm": {
     "name": "#%%\n"
    },
    "tags": []
   },
   "source": [
    "np.random.seed(seed)\n",
    "random_state = np.random.RandomState(seed)\n",
    "\n",
    "clusters = HDBSCAN(\n",
    "    min_samples=min_samples, min_cluster_size=min_cluster_size, core_dist_n_jobs=-1\n",
    ").fit_predict(embedding)\n",
    "\n",
    "# clusters = SpectralClustering(\n",
    "#     n_clusters=n_clusters, affinity=\"precomputed\", random_state=random_state, n_jobs=-1\n",
    "# ).fit_predict(adj_matrix)\n",
    "\n",
    "# it = girvan_newman(G)\n",
    "# communities = list(itertools.takewhile(lambda c: len(c) <= n_clusters, it))[-1]\n",
    "# clusters_dict = {node: i for i, c in enumerate(communities) for node in c}\n",
    "# clusters = [clusters_dict[node] for node in node_list]\n",
    "\n",
    "counter = Counter(clusters)\n",
    "print(f\"clusters: {np.amax(clusters) + 1}\")\n",
    "print(f\"cluster sizes: {sorted(counter.items(), key=lambda x: x[1], reverse=True)}\")\n",
    "print(f\"noise level: {np.round(counter[-1] / len(clusters), 3)}\")"
   ],
   "execution_count": null,
   "outputs": []
  },
  {
   "cell_type": "markdown",
   "metadata": {
    "collapsed": false,
    "papermill": {
     "duration": 2535.297396,
     "end_time": "2020-02-22T20:00:08.895098",
     "exception": false,
     "start_time": "2020-02-22T19:17:53.597702",
     "status": "completed"
    },
    "pycharm": {
     "is_executing": false,
     "name": "#%% md\n"
    },
    "tags": []
   },
   "source": [
    "Creating a dataframe from data and results:"
   ]
  },
  {
   "cell_type": "code",
   "metadata": {
    "collapsed": false,
    "papermill": {
     "duration": 0.013127,
     "end_time": "2020-02-22T20:00:08.934207",
     "exception": false,
     "start_time": "2020-02-22T20:00:08.921080",
     "status": "completed"
    },
    "pycharm": {
     "name": "#%%\n"
    },
    "tags": []
   },
   "source": [
    "np.random.seed(seed)\n",
    "\n",
    "d = {\"nconst\": node_list, \"cluster\": clusters}\n",
    "df_actor_info = pd.DataFrame(d)\n",
    "df_actor_info[\"degree\"] = df_actor_info[\"nconst\"].apply(G.degree)\n",
    "\n",
    "betweenness = nx.betweenness_centrality(G)\n",
    "df_betweenness = pd.DataFrame(betweenness.items(), columns=[\"nconst\", \"betweenness\"])\n",
    "df_actor_info = df_actor_info.merge(df_betweenness, how=\"inner\")\n",
    "\n",
    "df_names_birth_years = pd.read_csv(\n",
    "    \"data/actor_names_birthyear.csv\", sep=\",\", names=[\"nconst\", \"name\", \"birth_year\"]\n",
    ").reset_index()\n",
    "df_names_birth_years = df_names_birth_years.drop([\"index\"], axis=1)\n",
    "df_actor_info = df_actor_info.merge(df_names_birth_years, how=\"left\")\n",
    "\n",
    "df_birth_countries = pd.read_pickle(\"data/birth_countries.pkl\")\n",
    "df_actor_info = df_actor_info.merge(df_birth_countries, how=\"left\")"
   ],
   "execution_count": null,
   "outputs": []
  },
  {
   "cell_type": "markdown",
   "metadata": {
    "collapsed": false,
    "papermill": {
     "duration": 0.415495,
     "end_time": "2020-02-22T20:00:09.360285",
     "exception": false,
     "start_time": "2020-02-22T20:00:08.944790",
     "status": "completed"
    },
    "pycharm": {
     "is_executing": false,
     "name": "#%% md\n"
    },
    "tags": []
   },
   "source": [
    "Clustering performance evaluation with labels:"
   ]
  },
  {
   "cell_type": "code",
   "metadata": {
    "collapsed": false,
    "papermill": {
     "duration": 0.047615,
     "end_time": "2020-02-22T20:00:09.443321",
     "exception": false,
     "start_time": "2020-02-22T20:00:09.395706",
     "status": "completed"
    },
    "tags": [],
    "pycharm": {
     "name": "#%%\n"
    }
   },
   "source": [
    "np.random.seed(seed)\n",
    "\n",
    "df_eval_wl = df_actor_info[(df_actor_info[\"birth_country\"].notna()) & (df_actor_info[\"cluster\"] != -1)]\n",
    "df_eval_wl = df_eval_wl.reset_index().drop([\"index\"], axis=1)\n",
    "birth_countries = df_eval_wl['birth_country'].values\n",
    "clusters_eval_wl = df_eval_wl['cluster'].values\n",
    "\n",
    "print(f\"nodes used for eval with labels: {len(df_eval_wl)}\")\n",
    "print(f\"AMI: {adjusted_mutual_info_score(birth_countries, clusters_eval_wl)}\")\n",
    "print(f\"ARI: {adjusted_rand_score(birth_countries, clusters_eval_wl)}\")\n",
    "print(f\"V-measure: {v_measure_score(birth_countries, clusters_eval_wl)}\")\n",
    "print(f\"Fowlkes-Mallows: {fowlkes_mallows_score(birth_countries, clusters_eval_wl)}\")"
   ],
   "execution_count": null,
   "outputs": []
  },
  {
   "cell_type": "markdown",
   "metadata": {
    "collapsed": false,
    "papermill": {
     "duration": 0.128569,
     "end_time": "2020-02-22T20:00:09.626780",
     "exception": false,
     "start_time": "2020-02-22T20:00:09.498211",
     "status": "completed"
    },
    "pycharm": {
     "is_executing": false,
     "name": "#%% md\n"
    },
    "tags": []
   },
   "source": [
    "Clustering performance evaluation without labels:"
   ]
  },
  {
   "cell_type": "code",
   "metadata": {
    "collapsed": false,
    "papermill": {
     "duration": 0.014765,
     "end_time": "2020-02-22T20:00:09.670664",
     "exception": false,
     "start_time": "2020-02-22T20:00:09.655899",
     "status": "completed"
    },
    "tags": [],
    "pycharm": {
     "name": "#%%\n"
    }
   },
   "source": [
    "np.random.seed(seed)\n",
    "\n",
    "node_list_eval_wol = [u for i, u in enumerate(node_list) if clusters[i] != -1]\n",
    "n_nodes_eval_wol = len(node_list_eval_wol)\n",
    "clusters_eval_wol = [cluster for cluster in clusters if cluster != -1]\n",
    "dist_matrix_eval_wol = np.zeros((n_nodes_eval_wol, n_nodes_eval_wol))\n",
    "for i in range(n_nodes_eval_wol):\n",
    "    for j in range(n_nodes_eval_wol):\n",
    "        dist_matrix_eval_wol[i][j] = path_lengths[node_list_eval_wol[i]][node_list_eval_wol[j]]\n",
    "\n",
    "print(f\"nodes used for eval without labels: {n_nodes_eval_wol}\")\n",
    "print(f\"Silhouette Coefficient: {silhouette_score(dist_matrix_eval_wol, clusters_eval_wol, metric='precomputed')}\")"
   ],
   "execution_count": null,
   "outputs": []
  },
  {
   "cell_type": "markdown",
   "metadata": {
    "collapsed": false,
    "papermill": {
     "duration": 453.599695,
     "end_time": "2020-02-22T20:07:43.284887",
     "exception": false,
     "start_time": "2020-02-22T20:00:09.685192",
     "status": "completed"
    },
    "pycharm": {
     "is_executing": false,
     "name": "#%% md\n"
    },
    "tags": []
   },
   "source": [
    "Printing leaderboard for each cluster when sorted by degree:"
   ]
  },
  {
   "cell_type": "code",
   "metadata": {
    "collapsed": false,
    "papermill": {
     "duration": 0.040155,
     "end_time": "2020-02-22T20:07:43.368240",
     "exception": false,
     "start_time": "2020-02-22T20:07:43.328085",
     "status": "completed"
    },
    "tags": [],
    "pycharm": {
     "name": "#%%\n"
    }
   },
   "source": [
    "def display_side_by_side(dfs, captions):\n",
    "    output = \"\"\n",
    "    combined = dict(zip(captions, dfs))\n",
    "    for caption, df in combined.items():\n",
    "        output += df.style.set_table_attributes(\"style='display:inline'\").set_caption(caption)._repr_html_()\n",
    "        output += \"\\xa0\\xa0\\xa0\"\n",
    "    display(HTML(output))\n",
    "\n",
    "def print_leaderboards(df):\n",
    "    df_list = []\n",
    "    caption_list = []\n",
    "    for i in range(-1, df[\"cluster\"].max() + 1):\n",
    "        caption_list.append(f\"Cluster idx: {i}\")\n",
    "        cluster_top_actors = df_actor_info[df_actor_info[\"cluster\"] == i].reset_index()\n",
    "        cluster_top_actors = cluster_top_actors.drop([\"cluster\", \"index\", \"nconst\"], axis=1)\n",
    "        df_list.append(cluster_top_actors.head(10))\n",
    "    display_side_by_side(df_list, caption_list)    \n",
    "\n",
    "df_actor_info = df_actor_info.sort_values(by=\"degree\", ascending=False)\n",
    "print_leaderboards(df_actor_info)"
   ],
   "execution_count": null,
   "outputs": []
  },
  {
   "cell_type": "markdown",
   "metadata": {
    "collapsed": false,
    "papermill": {
     "duration": 68.864723,
     "end_time": "2020-02-22T20:08:52.332433",
     "exception": false,
     "start_time": "2020-02-22T20:07:43.467710",
     "status": "completed"
    },
    "pycharm": {
     "name": "#%% md\n"
    },
    "tags": []
   },
   "source": [
    "Printing leaderboard for each cluster when sorted by betweenness for nodes:"
   ]
  },
  {
   "cell_type": "code",
   "metadata": {
    "collapsed": false,
    "papermill": {
     "duration": 0.029953,
     "end_time": "2020-02-22T20:08:52.393223",
     "exception": false,
     "start_time": "2020-02-22T20:08:52.363270",
     "status": "completed"
    },
    "tags": [],
    "pycharm": {
     "name": "#%%\n"
    }
   },
   "source": [
    "df_actor_info = df_actor_info.sort_values(by=\"betweenness\", ascending=False)\n",
    "print_leaderboards(df_actor_info)"
   ],
   "execution_count": null,
   "outputs": []
  },
  {
   "cell_type": "markdown",
   "source": [
    "Visualizing the network using Spring and Custom layouts:"
   ],
   "metadata": {
    "collapsed": false
   }
  },
  {
   "cell_type": "code",
   "execution_count": null,
   "outputs": [],
   "source": [
    "np.random.seed(seed)\n",
    "\n",
    "def draw_network(G, pos, patch_list, node_colors, pdf_name, node_size=1, edge_width=.1, font_size=1):\n",
    "    plt.figure(figsize=(12, 9))\n",
    "    nx.draw_networkx_nodes(G, pos=pos, node_size=node_size, node_color=node_colors)\n",
    "    nx.draw_networkx_edges(G, pos=pos, width=edge_width)\n",
    "    # nx.draw_networkx_labels(G, pos=pos, font_size=font_size)\n",
    "    plt.legend(handles=patch_list, loc=\"center left\", bbox_to_anchor=(1, 0.5), ncol=2, fancybox=True)\n",
    "    plt.savefig(f\"results/{pdf_name + pdf_postfix}.pdf\", bbox_inches=\"tight\")\n",
    "    plt.show()\n",
    "\n",
    "palette = plt.cm.Set3.colors \\\n",
    "          + tuple(plt.cm.tab20b.colors[i] for i in [0, 4, 8, 12, 16]) \\\n",
    "          + tuple(plt.cm.tab20c.colors[i] for i in [4]) \\\n",
    "          + plt.cm.tab10.colors\n",
    "node_colors = [palette[cluster] for cluster in clusters]\n",
    "patch_list = [Patch(color=palette[i], label=i) for i in range(-1, np.amax(clusters) + 1)]\n",
    "\n",
    "pos_sp = nx.spring_layout(G, seed=seed)\n",
    "pos_su = {node_list[i]: embedding[i] for i in range(len(node_list))}\n",
    "\n",
    "draw_network(G, pos=pos_sp, patch_list=patch_list, node_colors=node_colors, pdf_name=\"graph_sp\")\n",
    "draw_network(G, pos=pos_su, patch_list=patch_list, node_colors=node_colors, pdf_name=\"graph_su\")"
   ],
   "metadata": {
    "collapsed": false,
    "pycharm": {
     "name": "#%%\n"
    }
   }
  },
  {
   "cell_type": "markdown",
   "source": [
    "Visualizing actors' birth years using custom layout:"
   ],
   "metadata": {
    "collapsed": false
   }
  },
  {
   "cell_type": "code",
   "execution_count": null,
   "outputs": [],
   "source": [
    "np.random.seed(seed)\n",
    "\n",
    "birth_years = df_actor_info.sort_values(by=\"nconst\", ascending=True)[\"birth_year\"].values\n",
    "birth_years[birth_years == \"\\\\N\"] = np.nan\n",
    "birth_years = birth_years.astype(float)\n",
    "\n",
    "plt.figure(figsize=(15, 9))\n",
    "g = nx.draw_networkx_nodes(\n",
    "    G, pos=pos_su, node_size=1, node_color=birth_years, cmap=plt.cm.gist_rainbow, vmin=np.nanmin(birth_years),\n",
    "    vmax=np.nanmax(birth_years)\n",
    ")\n",
    "nx.draw_networkx_edges(G, pos=pos_su, width=.1)\n",
    "plt.colorbar(g)\n",
    "plt.savefig(f\"results/birth_years_su{pdf_postfix}.pdf\", bbox_inches=\"tight\")\n",
    "plt.show()"
   ],
   "metadata": {
    "collapsed": false,
    "pycharm": {
     "name": "#%%\n"
    }
   }
  }
 ],
 "metadata": {
  "kernelspec": {
   "display_name": "Python 3",
   "language": "python",
   "name": "python3"
  },
  "language_info": {
   "codemirror_mode": {
    "name": "ipython",
    "version": 3
   },
   "file_extension": ".py",
   "mimetype": "text/x-python",
   "name": "python",
   "nbconvert_exporter": "python",
   "pygments_lexer": "ipython3",
   "version": "3.7.0"
  },
  "papermill": {
   "duration": 3645.355583,
   "end_time": "2020-02-22T20:08:52.501588",
   "environment_variables": {},
   "exception": null,
   "input_path": "test8.ipynb",
   "output_path": "test8.ipynb",
   "parameters": {},
   "start_time": "2020-02-22T19:08:07.146005",
   "version": "2.0.0"
  },
  "pycharm": {
   "stem_cell": {
    "cell_type": "raw",
    "source": [],
    "metadata": {
     "collapsed": false
    }
   }
  }
 },
 "nbformat": 4,
 "nbformat_minor": 0
}