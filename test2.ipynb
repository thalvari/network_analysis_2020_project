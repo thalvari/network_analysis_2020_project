{
 "cells": [
  {
   "cell_type": "markdown",
   "metadata": {
    "collapsed": false,
    "papermill": {
     "duration": 0.020116,
     "end_time": "2020-02-18T09:47:45.319619",
     "exception": false,
     "start_time": "2020-02-18T09:47:45.299503",
     "status": "completed"
    },
    "pycharm": {
     "name": "#%% md\n"
    },
    "tags": []
   },
   "source": [
    "# Clustering IMDB movie actors"
   ]
  },
  {
   "cell_type": "markdown",
   "metadata": {
    "collapsed": false,
    "papermill": {
     "duration": 3.206027,
     "end_time": "2020-02-18T09:47:48.555249",
     "exception": false,
     "start_time": "2020-02-18T09:47:45.349222",
     "status": "completed"
    },
    "pycharm": {
     "is_executing": false,
     "name": "#%% md\n"
    },
    "tags": []
   },
   "source": [
    "Defining notebook params:"
   ]
  },
  {
   "cell_type": "code",
   "metadata": {
    "collapsed": false,
    "papermill": {
     "duration": 0.012103,
     "end_time": "2020-02-18T09:47:48.586274",
     "exception": false,
     "start_time": "2020-02-18T09:47:48.574171",
     "status": "completed"
    },
    "pycharm": {
     "name": "#%%\n"
    },
    "tags": []
   },
   "source": [
    "seed = 42\n",
    "n_spectral_components = 2^6\n",
    "min_cluster_size = 300\n",
    "min_samples = 300\n",
    "pdf_postfix = \"_2\""
   ],
   "execution_count": null,
   "outputs": []
  },
  {
   "cell_type": "markdown",
   "metadata": {
    "collapsed": false,
    "papermill": {
     "duration": 0.017174,
     "end_time": "2020-02-18T09:47:48.616630",
     "exception": false,
     "start_time": "2020-02-18T09:47:48.599456",
     "status": "completed"
    },
    "pycharm": {
     "is_executing": false,
     "name": "#%% md\n"
    },
    "tags": []
   },
   "source": [
    "Import stuff and ignore warnings:"
   ]
  },
  {
   "cell_type": "code",
   "metadata": {
    "collapsed": false,
    "papermill": {
     "duration": 0.007279,
     "end_time": "2020-02-18T09:47:48.633173",
     "exception": false,
     "start_time": "2020-02-18T09:47:48.625894",
     "status": "completed"
    },
    "pycharm": {
     "name": "#%%\n"
    },
    "tags": []
   },
   "source": [
    "import pickle\n",
    "import warnings\n",
    "warnings.filterwarnings(\"ignore\")\n",
    "\n",
    "import matplotlib.pyplot as plt\n",
    "import networkx as nx\n",
    "import numpy as np\n",
    "import pandas as pd\n",
    "from IPython.core.display import display, HTML\n",
    "from collections import Counter\n",
    "from hdbscan import HDBSCAN\n",
    "from matplotlib.axes._axes import _log\n",
    "_log.setLevel(\"ERROR\")\n",
    "from matplotlib.cm import get_cmap\n",
    "from matplotlib.patches import Patch\n",
    "from sklearn.manifold import spectral_embedding\n",
    "from umap import UMAP\n",
    "\n",
    "%matplotlib inline"
   ],
   "execution_count": null,
   "outputs": []
  },
  {
   "cell_type": "markdown",
   "metadata": {
    "collapsed": false,
    "papermill": {
     "duration": 2.064991,
     "end_time": "2020-02-18T09:47:50.706079",
     "exception": false,
     "start_time": "2020-02-18T09:47:48.641088",
     "status": "completed"
    },
    "pycharm": {
     "is_executing": false,
     "name": "#%% md\n"
    },
    "tags": []
   },
   "source": [
    "Loading the network and taking the largest connected component:"
   ]
  },
  {
   "cell_type": "code",
   "metadata": {
    "collapsed": false,
    "papermill": {
     "duration": 0.011142,
     "end_time": "2020-02-18T09:47:50.735752",
     "exception": false,
     "start_time": "2020-02-18T09:47:50.724610",
     "status": "completed"
    },
    "pycharm": {
     "name": "#%%\n"
    },
    "tags": []
   },
   "source": [
    "with open(\"data/imdb.pkl\", \"rb\") as f:\n",
    "    G = nx.Graph()\n",
    "    G.add_edges_from(pickle.load(f))\n",
    "\n",
    "G.remove_nodes_from(set(nx.nodes(G)) - max(nx.connected_components(G), key=len))\n",
    "adj_matrix = nx.to_numpy_array(G)\n",
    "node_list = list(G.nodes())\n",
    "\n",
    "print(f\"nodes: {len(node_list)}\")\n",
    "print(f\"edges: {len(G.edges())}\")"
   ],
   "execution_count": null,
   "outputs": []
  },
  {
   "cell_type": "markdown",
   "metadata": {
    "collapsed": false,
    "papermill": {
     "duration": 136.696545,
     "end_time": "2020-02-18T09:50:07.440634",
     "exception": false,
     "start_time": "2020-02-18T09:47:50.744089",
     "status": "completed"
    },
    "pycharm": {
     "is_executing": false,
     "name": "#%% md\n"
    },
    "tags": []
   },
   "source": [
    "Using Spectral Embedding, reducing dimensions with UMAP and clustering with HDBSCAN:"
   ]
  },
  {
   "cell_type": "code",
   "execution_count": null,
   "outputs": [],
   "source": [
    "np.random.seed(seed)\n",
    "\n",
    "embedding = spectral_embedding(\n",
    "    adj_matrix, n_components=n_spectral_components, drop_first=False, random_state=np.random.RandomState(seed)\n",
    ")\n",
    "embedding = UMAP(\n",
    "    n_components=2, n_neighbors=30, min_dist=0.0, random_state=np.random.RandomState(seed)\n",
    ").fit_transform(embedding)\n",
    "clusters = HDBSCAN(\n",
    "    min_samples=min_samples, min_cluster_size=min_cluster_size, core_dist_n_jobs=-1\n",
    ").fit_predict(embedding)\n",
    "\n",
    "counter = Counter(clusters)\n",
    "print(f\"clusters: {np.amax(clusters) + 1}\")\n",
    "print(f\"cluster sizes: {[y for y in sorted(counter.items(), key=lambda x: x[1], reverse=True) if y[0] != -1]}\")\n",
    "print(f\"noise level: {np.round(counter[-1] / len(clusters), 3)}\")"
   ],
   "metadata": {
    "collapsed": false,
    "pycharm": {
     "name": "#%%\n"
    }
   }
  },
  {
   "cell_type": "markdown",
   "metadata": {
    "collapsed": false,
    "papermill": {
     "duration": 392.037046,
     "end_time": "2020-02-18T09:56:39.497638",
     "exception": false,
     "start_time": "2020-02-18T09:50:07.460592",
     "status": "completed"
    },
    "pycharm": {
     "name": "#%% md\n"
    },
    "tags": []
   },
   "source": [
    "Defining some helper functions for printing leaderboards:"
   ]
  },
  {
   "cell_type": "code",
   "metadata": {
    "collapsed": false,
    "papermill": {
     "duration": 0.012461,
     "end_time": "2020-02-18T09:56:39.534268",
     "exception": false,
     "start_time": "2020-02-18T09:56:39.521807",
     "status": "completed"
    },
    "pycharm": {
     "name": "#%%\n"
    },
    "tags": []
   },
   "source": [
    "def display_side_by_side(dfs, captions):\n",
    "    output = \"\"\n",
    "    combined = dict(zip(captions, dfs))\n",
    "    for caption, df in combined.items():\n",
    "        output += df.style.set_table_attributes(\"style='display:inline'\").set_caption(caption)._repr_html_()\n",
    "        output += \"\\xa0\\xa0\\xa0\"\n",
    "    display(HTML(output))\n",
    "\n",
    "def print_leaderboards(df):\n",
    "    df_list = []\n",
    "    caption_list = []\n",
    "    for i in range(df[\"cluster\"].max()):\n",
    "        caption_list.append(f\"Cluster idx: {i}\")\n",
    "        cluster_top_actors = df_actor_info[df_actor_info[\"cluster\"] == i].reset_index()\n",
    "        cluster_top_actors = cluster_top_actors.drop([\"cluster\", \"index\", \"nconst\"], axis=1)\n",
    "        df_list.append(cluster_top_actors.head())\n",
    "    display_side_by_side(df_list, caption_list)    \n",
    "\n",
    "d = {\"nconst\": node_list, \"cluster\": clusters}\n",
    "df_actor_info = pd.DataFrame(d)\n",
    "df_actor_info[\"degree\"] = df_actor_info[\"nconst\"].apply(G.degree)\n",
    "\n",
    "betweenness = nx.betweenness_centrality(G)\n",
    "df_betweenness = pd.DataFrame(betweenness.items(), columns=[\"nconst\", \"betweenness\"])\n",
    "df_actor_info = df_actor_info.merge(df_betweenness, how=\"inner\")\n",
    "\n",
    "df_names = pd.read_csv(\"data/actor_names.csv\", sep=\",\").reset_index()\n",
    "df_names = df_names.drop(\"index\", axis=1)\n",
    "df_actor_info = df_actor_info.merge(df_names, how=\"inner\")"
   ],
   "execution_count": null,
   "outputs": []
  },
  {
   "cell_type": "markdown",
   "metadata": {
    "collapsed": false,
    "papermill": {
     "duration": 59.163182,
     "end_time": "2020-02-18T09:57:38.707625",
     "exception": false,
     "start_time": "2020-02-18T09:56:39.544443",
     "status": "completed"
    },
    "pycharm": {
     "name": "#%% md\n"
    },
    "tags": []
   },
   "source": [
    "Printing leaderboards for each cluster when sorted by degree:"
   ]
  },
  {
   "cell_type": "code",
   "execution_count": null,
   "outputs": [],
   "source": [
    "df_actor_info = df_actor_info.sort_values(by=\"degree\", ascending=False)\n",
    "print_leaderboards(df_actor_info)"
   ],
   "metadata": {
    "collapsed": false,
    "pycharm": {
     "name": "#%%\n"
    }
   }
  },
  {
   "cell_type": "markdown",
   "source": [
    "Printing leaderboards for each cluster when sorted by betweenness:"
   ],
   "metadata": {
    "collapsed": false
   }
  },
  {
   "cell_type": "code",
   "execution_count": null,
   "outputs": [],
   "source": [
    "df_actor_info = df_actor_info.sort_values(by=\"betweenness\", ascending=False)\n",
    "print_leaderboards(df_actor_info)"
   ],
   "metadata": {
    "collapsed": false,
    "pycharm": {
     "name": "#%%\n"
    }
   }
  },
  {
   "cell_type": "markdown",
   "source": [
    "Visualizing the network using Spring and Custom layouts:"
   ],
   "metadata": {
    "collapsed": false
   }
  },
  {
   "cell_type": "code",
   "execution_count": null,
   "outputs": [],
   "source": [
    "np.random.seed(seed)\n",
    "\n",
    "def draw_network(G, pos, patch_list, node_colors, pdf_name, node_size=1, edge_width=.1, font_size=1):\n",
    "    nx.draw_networkx_nodes(G, pos=pos, node_size=node_size, node_color=node_colors)\n",
    "    nx.draw_networkx_edges(G, pos=pos, width=edge_width)\n",
    "    # nx.draw_networkx_labels(G, pos=pos, font_size=font_size)\n",
    "    plt.legend(handles=patch_list, loc=\"center left\", bbox_to_anchor=(1, 0.5), ncol=2, fancybox=True)\n",
    "    plt.savefig(f\"results/{pdf_name + pdf_postfix}.pdf\", bbox_inches=\"tight\")\n",
    "    plt.show()\n",
    "\n",
    "cmap = get_cmap(\"tab20\").colors\n",
    "cmap = [cmap[i] for i in range(len(cmap)) if i % 2 == 0] + [cmap[i] for i in range(len(cmap)) if i % 2 == 1]\n",
    "node_colors = [cmap[cluster] for cluster in clusters]\n",
    "patch_list = [Patch(color=cmap[i], label=i) for i in np.arange(-1, np.amax(clusters) + 1)]\n",
    "\n",
    "pos_sp = nx.spring_layout(G, seed=seed)\n",
    "pos_su = {node_list[i]: embedding[i] for i in range(len(node_list))}\n",
    "\n",
    "draw_network(G, pos=pos_sp, patch_list=patch_list, node_colors=node_colors, pdf_name=\"graph_sp\")\n",
    "draw_network(G, pos=pos_su, patch_list=patch_list, node_colors=node_colors, pdf_name=\"graph_su\")"
   ],
   "metadata": {
    "collapsed": false,
    "pycharm": {
     "name": "#%%\n"
    }
   }
  },
  {
   "cell_type": "markdown",
   "source": [
    "Removing nodes labeled as noise by HDBSCAN and visualizing the results:"
   ],
   "metadata": {
    "collapsed": false
   }
  },
  {
   "cell_type": "code",
   "execution_count": null,
   "outputs": [],
   "source": [
    "# G.remove_nodes_from([node_list[i] for i in range(len(node_list)) if clusters[i] == -1])\n",
    "# node_colors = [cmap[cluster] for cluster in clusters if cluster != -1]\n",
    "# \n",
    "# draw_network(G, pos=pos_sp, cmap=cmap, node_colors=node_colors, pdf_name=\"graph_sp_clean\")\n",
    "# draw_network(G, pos=pos_su, cmap=cmap, node_colors=node_colors, pdf_name=\"graph_su_clean\")"
   ],
   "metadata": {
    "collapsed": false,
    "pycharm": {
     "name": "#%%\n"
    }
   }
  }
 ],
 "metadata": {
  "kernelspec": {
   "display_name": "Python 3",
   "language": "python",
   "name": "python3"
  },
  "language_info": {
   "codemirror_mode": {
    "name": "ipython",
    "version": 3
   },
   "file_extension": ".py",
   "mimetype": "text/x-python",
   "name": "python",
   "nbconvert_exporter": "python",
   "pygments_lexer": "ipython3",
   "version": "3.7.0"
  },
  "papermill": {
   "duration": 596.325208,
   "end_time": "2020-02-18T09:57:39.560334",
   "environment_variables": {},
   "exception": null,
   "input_path": "test2.ipynb",
   "output_path": "test2.ipynb",
   "parameters": {},
   "start_time": "2020-02-18T09:47:43.235126",
   "version": "1.2.1"
  },
  "pycharm": {
   "stem_cell": {
    "cell_type": "raw",
    "source": [],
    "metadata": {
     "collapsed": false
    }
   }
  }
 },
 "nbformat": 4,
 "nbformat_minor": 0
}