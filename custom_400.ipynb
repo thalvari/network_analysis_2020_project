{
 "cells": [
  {
   "cell_type": "markdown",
   "metadata": {
    "hide_input": true,
    "inputHidden": true,
    "papermill": {
     "duration": 0.030825,
     "end_time": "2020-02-22T17:06:17.912380",
     "exception": false,
     "start_time": "2020-02-22T17:06:17.881555",
     "status": "completed"
    },
    "pycharm": {
     "name": "#%% md\n"
    },
    "tags": []
   },
   "source": [
    "# Clustering IMDB movie actors"
   ]
  },
  {
   "cell_type": "markdown",
   "metadata": {
    "collapsed": false,
    "papermill": {
     "duration": 0.02445,
     "end_time": "2020-02-22T17:06:17.962944",
     "exception": false,
     "start_time": "2020-02-22T17:06:17.938494",
     "status": "completed"
    },
    "pycharm": {
     "name": "#%% md\n"
    },
    "tags": []
   },
   "source": [
    "Defining notebook params:"
   ]
  },
  {
   "cell_type": "code",
   "execution_count": 1,
   "metadata": {
    "collapsed": false,
    "papermill": {
     "duration": 0.035099,
     "end_time": "2020-02-22T17:06:18.020691",
     "exception": false,
     "start_time": "2020-02-22T17:06:17.985592",
     "status": "completed"
    },
    "pycharm": {
     "is_executing": false,
     "name": "#%%\n"
    },
    "tags": []
   },
   "outputs": [],
   "source": [
    "seed = 42\n",
    "n_spectral_components = 400\n",
    "# n_clusters = 25\n",
    "min_cluster_size = 150\n",
    "min_samples = 10\n",
    "pdf_postfix = \"_custom_400\""
   ]
  },
  {
   "cell_type": "markdown",
   "metadata": {
    "collapsed": false,
    "papermill": {
     "duration": 0.016533,
     "end_time": "2020-02-22T17:06:18.054739",
     "exception": false,
     "start_time": "2020-02-22T17:06:18.038206",
     "status": "completed"
    },
    "pycharm": {
     "name": "#%% md\n"
    },
    "tags": []
   },
   "source": [
    "Import stuff and ignore warnings:"
   ]
  },
  {
   "cell_type": "code",
   "execution_count": 2,
   "metadata": {
    "collapsed": false,
    "papermill": {
     "duration": 5.126383,
     "end_time": "2020-02-22T17:06:23.198198",
     "exception": false,
     "start_time": "2020-02-22T17:06:18.071815",
     "status": "completed"
    },
    "pycharm": {
     "is_executing": false,
     "name": "#%%\n"
    },
    "tags": []
   },
   "outputs": [],
   "source": [
    "import itertools\n",
    "import pickle\n",
    "import warnings\n",
    "warnings.filterwarnings(\"ignore\")\n",
    "\n",
    "import matplotlib.pyplot as plt\n",
    "import networkx as nx\n",
    "import numpy as np\n",
    "import pandas as pd\n",
    "from IPython.core.display import display, HTML\n",
    "from collections import Counter\n",
    "from hdbscan import HDBSCAN\n",
    "from matplotlib.axes._axes import _log\n",
    "_log.setLevel(\"ERROR\")\n",
    "from matplotlib.patches import Patch\n",
    "from networkx.algorithms.community import girvan_newman\n",
    "from sklearn.cluster import SpectralClustering\n",
    "from sklearn.manifold import spectral_embedding\n",
    "from umap import UMAP\n",
    "\n",
    "%matplotlib inline"
   ]
  },
  {
   "cell_type": "markdown",
   "metadata": {
    "collapsed": false,
    "papermill": {
     "duration": 0.024777,
     "end_time": "2020-02-22T17:06:23.276275",
     "exception": false,
     "start_time": "2020-02-22T17:06:23.251498",
     "status": "completed"
    },
    "pycharm": {
     "name": "#%% md\n"
    },
    "tags": []
   },
   "source": [
    "Loading the network and taking the largest connected component:"
   ]
  },
  {
   "cell_type": "code",
   "execution_count": 3,
   "metadata": {
    "collapsed": false,
    "papermill": {
     "duration": 3.450998,
     "end_time": "2020-02-22T17:06:26.754386",
     "exception": false,
     "start_time": "2020-02-22T17:06:23.303388",
     "status": "completed"
    },
    "pycharm": {
     "is_executing": false,
     "name": "#%%\n"
    },
    "tags": []
   },
   "outputs": [
    {
     "name": "stdout",
     "output_type": "stream",
     "text": [
      "nodes: 13406\n",
      "edges: 390859\n"
     ]
    }
   ],
   "source": [
    "np.random.seed(seed)\n",
    "\n",
    "with open(\"data/edges.pkl\", \"rb\") as f:\n",
    "    G = nx.Graph()\n",
    "    G.add_edges_from(pickle.load(f))\n",
    "\n",
    "G.remove_nodes_from(set(nx.nodes(G)) - max(nx.connected_components(G), key=len))\n",
    "adj_matrix = nx.to_numpy_array(G)\n",
    "node_list = list(G.nodes())\n",
    "\n",
    "print(f\"nodes: {len(node_list)}\")\n",
    "print(f\"edges: {len(G.edges())}\")"
   ]
  },
  {
   "cell_type": "markdown",
   "metadata": {
    "collapsed": false,
    "papermill": {
     "duration": 0.025081,
     "end_time": "2020-02-22T17:06:26.809308",
     "exception": false,
     "start_time": "2020-02-22T17:06:26.784227",
     "status": "completed"
    },
    "pycharm": {
     "name": "#%% md\n"
    },
    "tags": []
   },
   "source": [
    "Using Spectral Embedding, reducing dimensions with UMAP and clustering with HDBSCAN:"
   ]
  },
  {
   "cell_type": "code",
   "execution_count": 4,
   "metadata": {
    "collapsed": false,
    "papermill": {
     "duration": 428.23952,
     "end_time": "2020-02-22T17:13:35.072601",
     "exception": false,
     "start_time": "2020-02-22T17:06:26.833081",
     "status": "completed"
    },
    "pycharm": {
     "name": "#%%\n"
    },
    "tags": []
   },
   "outputs": [
    {
     "name": "stdout",
     "output_type": "stream",
     "text": [
      "clusters: 23\n",
      "cluster sizes: [(22, 1626), (-1, 1461), (9, 1018), (13, 978), (5, 724), (6, 695), (20, 686), (1, 662), (21, 635), (12, 507), (7, 467), (18, 463), (17, 455), (8, 417), (10, 388), (14, 375), (19, 287), (15, 282), (11, 277), (16, 277), (3, 245), (0, 177), (2, 153), (4, 151)]\n",
      "noise level: 0.109\n"
     ]
    }
   ],
   "source": [
    "np.random.seed(seed)\n",
    "random_state = np.random.RandomState(seed)\n",
    "\n",
    "embedding = spectral_embedding(\n",
    "    adj_matrix, n_components=n_spectral_components, drop_first=False, random_state=random_state\n",
    ")\n",
    "embedding = UMAP(\n",
    "    n_components=2, n_neighbors=30, min_dist=0.0, random_state=random_state\n",
    ").fit_transform(embedding)"
   ]
  },
  {
   "cell_type": "code",
   "metadata": {
    "collapsed": false,
    "papermill": {
     "duration": 0.028499,
     "end_time": "2020-02-22T17:13:35.124177",
     "exception": false,
     "start_time": "2020-02-22T17:13:35.095678",
     "status": "completed"
    },
    "pycharm": {
     "is_executing": false,
     "name": "#%%\n"
    },
    "tags": []
   },
   "source": [
    "np.random.seed(seed)\n",
    "random_state = np.random.RandomState(seed)\n",
    "\n",
    "clusters = HDBSCAN(\n",
    "    min_samples=min_samples, min_cluster_size=min_cluster_size, core_dist_n_jobs=-1\n",
    ").fit_predict(embedding)\n",
    "\n",
    "# clusters = SpectralClustering(\n",
    "#     n_clusters=n_clusters, affinity=\"precomputed\", random_state=random_state, n_jobs=-1\n",
    "# ).fit_predict(adj_matrix)\n",
    "\n",
    "# iter = girvan_newman(G)\n",
    "# communities = list(itertools.takewhile(lambda c: len(c) <= n_clusters, iter))[-1]\n",
    "# clusters_dict = {node: i for i, c in enumerate(communities) for node in c}\n",
    "# clusters = [clusters_dict[node] for node in node_list]\n",
    "\n",
    "counter = Counter(clusters)\n",
    "print(f\"clusters: {np.amax(clusters) + 1}\")\n",
    "print(f\"cluster sizes: {sorted(counter.items(), key=lambda x: x[1], reverse=True)}\")\n",
    "print(f\"noise level: {np.round(counter[-1] / len(clusters), 3)}\")"
   ],
   "execution_count": null,
   "outputs": []
  },
  {
   "cell_type": "markdown",
   "metadata": {
    "collapsed": false,
    "papermill": {
     "duration": 4434.978986,
     "end_time": "2020-02-22T18:27:30.127591",
     "exception": false,
     "start_time": "2020-02-22T17:13:35.148605",
     "status": "completed"
    },
    "pycharm": {
     "name": "#%% md\n"
    },
    "tags": []
   },
   "source": [
    "Defining some helper functions for printing leaderboards:"
   ]
  },
  {
   "cell_type": "code",
   "metadata": {
    "collapsed": false,
    "papermill": {
     "duration": 0.026338,
     "end_time": "2020-02-22T18:27:30.188530",
     "exception": false,
     "start_time": "2020-02-22T18:27:30.162192",
     "status": "completed"
    },
    "pycharm": {
     "name": "#%%\n"
    },
    "tags": []
   },
   "source": [
    "def display_side_by_side(dfs, captions):\n",
    "    output = \"\"\n",
    "    combined = dict(zip(captions, dfs))\n",
    "    for caption, df in combined.items():\n",
    "        output += df.style.set_table_attributes(\"style='display:inline'\").set_caption(caption)._repr_html_()\n",
    "        output += \"\\xa0\\xa0\\xa0\"\n",
    "    display(HTML(output))\n",
    "\n",
    "def print_leaderboards(df):\n",
    "    df_list = []\n",
    "    caption_list = []\n",
    "    for i in range(-1, df[\"cluster\"].max() + 1):\n",
    "        caption_list.append(f\"Cluster idx: {i}\")\n",
    "        cluster_top_actors = df_actor_info[df_actor_info[\"cluster\"] == i].reset_index()\n",
    "        cluster_top_actors = cluster_top_actors.drop([\"cluster\", \"index\", \"nconst\"], axis=1)\n",
    "        df_list.append(cluster_top_actors.head())\n",
    "    display_side_by_side(df_list, caption_list)    \n",
    "\n",
    "d = {\"nconst\": node_list, \"cluster\": clusters}\n",
    "df_actor_info = pd.DataFrame(d)\n",
    "df_actor_info[\"degree\"] = df_actor_info[\"nconst\"].apply(G.degree)\n",
    "\n",
    "betweenness = nx.betweenness_centrality(G)\n",
    "df_betweenness = pd.DataFrame(betweenness.items(), columns=[\"nconst\", \"betweenness\"])\n",
    "df_actor_info = df_actor_info.merge(df_betweenness, how=\"inner\")\n",
    "\n",
    "df_names = pd.read_csv(\"data/actor_names_birthyear.csv\", sep=\",\").reset_index()\n",
    "df_names = df_names.drop([\"index\"], axis=1)\n",
    "df_actor_info = df_actor_info.merge(df_names, how=\"left\")\n",
    "\n",
    "birth_years = df_actor_info.sort_values(by=\"nconst\", ascending=True)[\"birthYear\"].values\n",
    "birth_years[birth_years == \"\\\\N\"] = np.nan\n",
    "birth_years = birth_years.astype(float)"
   ],
   "execution_count": null,
   "outputs": []
  },
  {
   "cell_type": "markdown",
   "metadata": {
    "collapsed": false,
    "papermill": {
     "duration": 0.632198,
     "end_time": "2020-02-22T18:27:30.846369",
     "exception": false,
     "start_time": "2020-02-22T18:27:30.214171",
     "status": "completed"
    },
    "pycharm": {
     "name": "#%% md\n"
    },
    "tags": []
   },
   "source": [
    "Printing leaderboards for each cluster when sorted by degree:"
   ]
  },
  {
   "cell_type": "code",
   "metadata": {
    "collapsed": false,
    "papermill": {
     "duration": 0.028357,
     "end_time": "2020-02-22T18:27:30.908347",
     "exception": false,
     "start_time": "2020-02-22T18:27:30.879990",
     "status": "completed"
    },
    "tags": [],
    "pycharm": {
     "name": "#%%\n"
    }
   },
   "source": [
    "df_actor_info = df_actor_info.sort_values(by=\"degree\", ascending=False)\n",
    "print_leaderboards(df_actor_info)"
   ],
   "execution_count": null,
   "outputs": []
  },
  {
   "cell_type": "markdown",
   "metadata": {
    "collapsed": false,
    "papermill": {
     "duration": 0.204493,
     "end_time": "2020-02-22T18:27:31.139620",
     "exception": false,
     "start_time": "2020-02-22T18:27:30.935127",
     "status": "completed"
    },
    "pycharm": {
     "name": "#%% md\n"
    },
    "tags": []
   },
   "source": [
    "Printing leaderboards for each cluster when sorted by betweenness:"
   ]
  },
  {
   "cell_type": "code",
   "metadata": {
    "collapsed": false,
    "papermill": {
     "duration": 0.035645,
     "end_time": "2020-02-22T18:27:31.219374",
     "exception": false,
     "start_time": "2020-02-22T18:27:31.183729",
     "status": "completed"
    },
    "tags": [],
    "pycharm": {
     "name": "#%%\n"
    }
   },
   "source": [
    "df_actor_info = df_actor_info.sort_values(by=\"betweenness\", ascending=False)\n",
    "print_leaderboards(df_actor_info)"
   ],
   "execution_count": null,
   "outputs": []
  },
  {
   "cell_type": "markdown",
   "metadata": {
    "collapsed": false,
    "papermill": {
     "duration": 819.380637,
     "end_time": "2020-02-22T18:41:10.631775",
     "exception": false,
     "start_time": "2020-02-22T18:27:31.251138",
     "status": "completed"
    },
    "pycharm": {
     "name": "#%% md\n"
    },
    "tags": []
   },
   "source": [
    "Visualizing the network using Spring and Custom layouts:"
   ]
  },
  {
   "cell_type": "code",
   "metadata": {
    "collapsed": false,
    "papermill": {
     "duration": 0.038465,
     "end_time": "2020-02-22T18:41:10.717178",
     "exception": false,
     "start_time": "2020-02-22T18:41:10.678713",
     "status": "completed"
    },
    "tags": [],
    "pycharm": {
     "name": "#%%\n"
    }
   },
   "source": [
    "np.random.seed(seed)\n",
    "\n",
    "def draw_network(G, pos, patch_list, node_colors, pdf_name, node_size=1, edge_width=.1, font_size=1):\n",
    "    plt.figure(figsize=(12, 9))\n",
    "    nx.draw_networkx_nodes(G, pos=pos, node_size=node_size, node_color=node_colors)\n",
    "    nx.draw_networkx_edges(G, pos=pos, width=edge_width)\n",
    "    # nx.draw_networkx_labels(G, pos=pos, font_size=font_size)\n",
    "    plt.legend(handles=patch_list, loc=\"center left\", bbox_to_anchor=(1, 0.5), ncol=2, fancybox=True)\n",
    "    plt.savefig(f\"results/{pdf_name + pdf_postfix}.pdf\", bbox_inches=\"tight\")\n",
    "    plt.show()\n",
    "\n",
    "palette = plt.cm.Set3.colors \\\n",
    "          + tuple(plt.cm.tab20b.colors[i] for i in [0, 4, 8, 12, 16]) \\\n",
    "          + tuple(plt.cm.tab20c.colors[i] for i in [4]) \\\n",
    "          + plt.cm.tab10.colors\n",
    "node_colors = [palette[cluster] for cluster in clusters]\n",
    "patch_list = [Patch(color=palette[i], label=i) for i in range(-1, np.amax(clusters) + 1)]\n",
    "\n",
    "pos_sp = nx.spring_layout(G, seed=seed)\n",
    "pos_su = {node_list[i]: embedding[i] for i in range(len(node_list))}\n",
    "\n",
    "draw_network(G, pos=pos_sp, patch_list=patch_list, node_colors=node_colors, pdf_name=\"graph_sp\")\n",
    "draw_network(G, pos=pos_su, patch_list=patch_list, node_colors=node_colors, pdf_name=\"graph_su\")"
   ],
   "execution_count": null,
   "outputs": []
  },
  {
   "cell_type": "markdown",
   "metadata": {
    "collapsed": false,
    "papermill": {
     "duration": 138.825405,
     "end_time": "2020-02-22T18:43:29.580948",
     "exception": false,
     "start_time": "2020-02-22T18:41:10.755543",
     "status": "completed"
    },
    "pycharm": {
     "name": "#%% md\n"
    },
    "tags": []
   },
   "source": [
    "Visualizing birth years using custom layout:"
   ]
  },
  {
   "cell_type": "code",
   "metadata": {
    "collapsed": false,
    "papermill": {
     "duration": 0.043812,
     "end_time": "2020-02-22T18:43:29.677417",
     "exception": false,
     "start_time": "2020-02-22T18:43:29.633605",
     "status": "completed"
    },
    "tags": [],
    "pycharm": {
     "name": "#%%\n"
    }
   },
   "source": [
    "plt.figure(figsize=(15, 9))\n",
    "g = nx.draw_networkx_nodes(\n",
    "    G, pos=pos_su, node_size=1, node_color=birth_years, cmap=plt.cm.gist_rainbow, vmin=np.nanmin(birth_years),\n",
    "    vmax=np.nanmax(birth_years)\n",
    ")\n",
    "nx.draw_networkx_edges(G, pos=pos_su, width=.1)\n",
    "plt.colorbar(g)\n",
    "plt.savefig(f\"results/birth_years{pdf_postfix}.pdf\", bbox_inches=\"tight\")\n",
    "plt.show()"
   ],
   "execution_count": null,
   "outputs": []
  }
 ],
 "metadata": {
  "kernelspec": {
   "display_name": "Python 3",
   "language": "python",
   "name": "python3"
  },
  "language_info": {
   "codemirror_mode": {
    "name": "ipython",
    "version": 3
   },
   "file_extension": ".py",
   "mimetype": "text/x-python",
   "name": "python",
   "nbconvert_exporter": "python",
   "pygments_lexer": "ipython3",
   "version": "3.7.0"
  },
  "papermill": {
   "duration": 5834.637007,
   "end_time": "2020-02-22T18:43:29.838000",
   "environment_variables": {},
   "exception": null,
   "input_path": "test4.ipynb",
   "output_path": "test4.ipynb",
   "parameters": {},
   "start_time": "2020-02-22T17:06:15.200993",
   "version": "1.2.1"
  },
  "pycharm": {
   "stem_cell": {
    "cell_type": "raw",
    "source": [],
    "metadata": {
     "collapsed": false
    }
   }
  }
 },
 "nbformat": 4,
 "nbformat_minor": 0
}